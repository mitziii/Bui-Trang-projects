{
 "cells": [
  {
   "cell_type": "markdown",
   "metadata": {},
   "source": [
    "# Project: Investigate a Movie Data from TMDB dataset\n",
    "\n",
    "## By Thu Trang Bui\n",
    "\n",
    "## Table of Contents\n",
    "<ul>\n",
    "<li><a href=\"#intro\">Introduction</a></li>\n",
    "<li><a href=\"#wrangling\">Data Wrangling</a></li>\n",
    "<li><a href=\"#eda\">Exploratory Data Analysis</a></li>\n",
    "<li><a href=\"#conclusions\">Conclusions</a></li>\n",
    "</ul>"
   ]
  },
  {
   "cell_type": "markdown",
   "metadata": {},
   "source": [
    "<a id='intro'></a>\n",
    "## Introduction\n",
    "\n",
    "To illustrate the ability to investigate a dataset, TMDB movies dataset is employed. The dataset includes more than 10,000 movies with 21 fields of information, inclusive of genres, popularity, budget, revenue, cast, director, and so on. From this dataset, the author aims to find out the properties of a popular and profitable movie by answering the following questions:\n",
    "\n",
    "1. Which genres are most popular from year to year?\n",
    "2. What properties are correlated with movies having high revenues/profits?\n",
    "3. Who are the most frequent cast in the profitable movies? Who are the most frequent director in the profitable movies?\n"
   ]
  },
  {
   "cell_type": "code",
   "execution_count": 1,
   "metadata": {},
   "outputs": [],
   "source": [
    "# set up import statements for all of the packages \n",
    "\n",
    "import pandas as pd\n",
    "import numpy as np\n",
    "import matplotlib.pyplot as plt\n",
    "import seaborn as sns\n",
    "\n",
    "%matplotlib inline"
   ]
  },
  {
   "cell_type": "code",
   "execution_count": 2,
   "metadata": {},
   "outputs": [],
   "source": [
    "# to numeric numbers\n",
    "\n",
    "pd.options.display.float_format = '{:.2f}'.format"
   ]
  },
  {
   "cell_type": "markdown",
   "metadata": {},
   "source": [
    "<a id='wrangling'></a>\n",
    "## Data Wrangling\n",
    "\n",
    "### General Properties"
   ]
  },
  {
   "cell_type": "code",
   "execution_count": 3,
   "metadata": {
    "scrolled": true
   },
   "outputs": [
    {
     "data": {
      "text/html": [
       "<div>\n",
       "<style scoped>\n",
       "    .dataframe tbody tr th:only-of-type {\n",
       "        vertical-align: middle;\n",
       "    }\n",
       "\n",
       "    .dataframe tbody tr th {\n",
       "        vertical-align: top;\n",
       "    }\n",
       "\n",
       "    .dataframe thead th {\n",
       "        text-align: right;\n",
       "    }\n",
       "</style>\n",
       "<table border=\"1\" class=\"dataframe\">\n",
       "  <thead>\n",
       "    <tr style=\"text-align: right;\">\n",
       "      <th></th>\n",
       "      <th>id</th>\n",
       "      <th>imdb_id</th>\n",
       "      <th>popularity</th>\n",
       "      <th>budget</th>\n",
       "      <th>revenue</th>\n",
       "      <th>original_title</th>\n",
       "      <th>cast</th>\n",
       "      <th>homepage</th>\n",
       "      <th>director</th>\n",
       "      <th>tagline</th>\n",
       "      <th>...</th>\n",
       "      <th>overview</th>\n",
       "      <th>runtime</th>\n",
       "      <th>genres</th>\n",
       "      <th>production_companies</th>\n",
       "      <th>release_date</th>\n",
       "      <th>vote_count</th>\n",
       "      <th>vote_average</th>\n",
       "      <th>release_year</th>\n",
       "      <th>budget_adj</th>\n",
       "      <th>revenue_adj</th>\n",
       "    </tr>\n",
       "  </thead>\n",
       "  <tbody>\n",
       "    <tr>\n",
       "      <th>0</th>\n",
       "      <td>135397</td>\n",
       "      <td>tt0369610</td>\n",
       "      <td>32.99</td>\n",
       "      <td>150000000</td>\n",
       "      <td>1513528810</td>\n",
       "      <td>Jurassic World</td>\n",
       "      <td>Chris Pratt|Bryce Dallas Howard|Irrfan Khan|Vi...</td>\n",
       "      <td>http://www.jurassicworld.com/</td>\n",
       "      <td>Colin Trevorrow</td>\n",
       "      <td>The park is open.</td>\n",
       "      <td>...</td>\n",
       "      <td>Twenty-two years after the events of Jurassic ...</td>\n",
       "      <td>124</td>\n",
       "      <td>Action|Adventure|Science Fiction|Thriller</td>\n",
       "      <td>Universal Studios|Amblin Entertainment|Legenda...</td>\n",
       "      <td>6/9/15</td>\n",
       "      <td>5562</td>\n",
       "      <td>6.50</td>\n",
       "      <td>2015</td>\n",
       "      <td>137999939.28</td>\n",
       "      <td>1392445892.52</td>\n",
       "    </tr>\n",
       "    <tr>\n",
       "      <th>1</th>\n",
       "      <td>76341</td>\n",
       "      <td>tt1392190</td>\n",
       "      <td>28.42</td>\n",
       "      <td>150000000</td>\n",
       "      <td>378436354</td>\n",
       "      <td>Mad Max: Fury Road</td>\n",
       "      <td>Tom Hardy|Charlize Theron|Hugh Keays-Byrne|Nic...</td>\n",
       "      <td>http://www.madmaxmovie.com/</td>\n",
       "      <td>George Miller</td>\n",
       "      <td>What a Lovely Day.</td>\n",
       "      <td>...</td>\n",
       "      <td>An apocalyptic story set in the furthest reach...</td>\n",
       "      <td>120</td>\n",
       "      <td>Action|Adventure|Science Fiction|Thriller</td>\n",
       "      <td>Village Roadshow Pictures|Kennedy Miller Produ...</td>\n",
       "      <td>5/13/15</td>\n",
       "      <td>6185</td>\n",
       "      <td>7.10</td>\n",
       "      <td>2015</td>\n",
       "      <td>137999939.28</td>\n",
       "      <td>348161292.49</td>\n",
       "    </tr>\n",
       "    <tr>\n",
       "      <th>2</th>\n",
       "      <td>262500</td>\n",
       "      <td>tt2908446</td>\n",
       "      <td>13.11</td>\n",
       "      <td>110000000</td>\n",
       "      <td>295238201</td>\n",
       "      <td>Insurgent</td>\n",
       "      <td>Shailene Woodley|Theo James|Kate Winslet|Ansel...</td>\n",
       "      <td>http://www.thedivergentseries.movie/#insurgent</td>\n",
       "      <td>Robert Schwentke</td>\n",
       "      <td>One Choice Can Destroy You</td>\n",
       "      <td>...</td>\n",
       "      <td>Beatrice Prior must confront her inner demons ...</td>\n",
       "      <td>119</td>\n",
       "      <td>Adventure|Science Fiction|Thriller</td>\n",
       "      <td>Summit Entertainment|Mandeville Films|Red Wago...</td>\n",
       "      <td>3/18/15</td>\n",
       "      <td>2480</td>\n",
       "      <td>6.30</td>\n",
       "      <td>2015</td>\n",
       "      <td>101199955.47</td>\n",
       "      <td>271619025.41</td>\n",
       "    </tr>\n",
       "    <tr>\n",
       "      <th>3</th>\n",
       "      <td>140607</td>\n",
       "      <td>tt2488496</td>\n",
       "      <td>11.17</td>\n",
       "      <td>200000000</td>\n",
       "      <td>2068178225</td>\n",
       "      <td>Star Wars: The Force Awakens</td>\n",
       "      <td>Harrison Ford|Mark Hamill|Carrie Fisher|Adam D...</td>\n",
       "      <td>http://www.starwars.com/films/star-wars-episod...</td>\n",
       "      <td>J.J. Abrams</td>\n",
       "      <td>Every generation has a story.</td>\n",
       "      <td>...</td>\n",
       "      <td>Thirty years after defeating the Galactic Empi...</td>\n",
       "      <td>136</td>\n",
       "      <td>Action|Adventure|Science Fiction|Fantasy</td>\n",
       "      <td>Lucasfilm|Truenorth Productions|Bad Robot</td>\n",
       "      <td>12/15/15</td>\n",
       "      <td>5292</td>\n",
       "      <td>7.50</td>\n",
       "      <td>2015</td>\n",
       "      <td>183999919.04</td>\n",
       "      <td>1902723129.80</td>\n",
       "    </tr>\n",
       "    <tr>\n",
       "      <th>4</th>\n",
       "      <td>168259</td>\n",
       "      <td>tt2820852</td>\n",
       "      <td>9.34</td>\n",
       "      <td>190000000</td>\n",
       "      <td>1506249360</td>\n",
       "      <td>Furious 7</td>\n",
       "      <td>Vin Diesel|Paul Walker|Jason Statham|Michelle ...</td>\n",
       "      <td>http://www.furious7.com/</td>\n",
       "      <td>James Wan</td>\n",
       "      <td>Vengeance Hits Home</td>\n",
       "      <td>...</td>\n",
       "      <td>Deckard Shaw seeks revenge against Dominic Tor...</td>\n",
       "      <td>137</td>\n",
       "      <td>Action|Crime|Thriller</td>\n",
       "      <td>Universal Pictures|Original Film|Media Rights ...</td>\n",
       "      <td>4/1/15</td>\n",
       "      <td>2947</td>\n",
       "      <td>7.30</td>\n",
       "      <td>2015</td>\n",
       "      <td>174799923.09</td>\n",
       "      <td>1385748801.47</td>\n",
       "    </tr>\n",
       "  </tbody>\n",
       "</table>\n",
       "<p>5 rows × 21 columns</p>\n",
       "</div>"
      ],
      "text/plain": [
       "       id    imdb_id  popularity     budget     revenue  \\\n",
       "0  135397  tt0369610       32.99  150000000  1513528810   \n",
       "1   76341  tt1392190       28.42  150000000   378436354   \n",
       "2  262500  tt2908446       13.11  110000000   295238201   \n",
       "3  140607  tt2488496       11.17  200000000  2068178225   \n",
       "4  168259  tt2820852        9.34  190000000  1506249360   \n",
       "\n",
       "                 original_title  \\\n",
       "0                Jurassic World   \n",
       "1            Mad Max: Fury Road   \n",
       "2                     Insurgent   \n",
       "3  Star Wars: The Force Awakens   \n",
       "4                     Furious 7   \n",
       "\n",
       "                                                cast  \\\n",
       "0  Chris Pratt|Bryce Dallas Howard|Irrfan Khan|Vi...   \n",
       "1  Tom Hardy|Charlize Theron|Hugh Keays-Byrne|Nic...   \n",
       "2  Shailene Woodley|Theo James|Kate Winslet|Ansel...   \n",
       "3  Harrison Ford|Mark Hamill|Carrie Fisher|Adam D...   \n",
       "4  Vin Diesel|Paul Walker|Jason Statham|Michelle ...   \n",
       "\n",
       "                                            homepage          director  \\\n",
       "0                      http://www.jurassicworld.com/   Colin Trevorrow   \n",
       "1                        http://www.madmaxmovie.com/     George Miller   \n",
       "2     http://www.thedivergentseries.movie/#insurgent  Robert Schwentke   \n",
       "3  http://www.starwars.com/films/star-wars-episod...       J.J. Abrams   \n",
       "4                           http://www.furious7.com/         James Wan   \n",
       "\n",
       "                         tagline  ...  \\\n",
       "0              The park is open.  ...   \n",
       "1             What a Lovely Day.  ...   \n",
       "2     One Choice Can Destroy You  ...   \n",
       "3  Every generation has a story.  ...   \n",
       "4            Vengeance Hits Home  ...   \n",
       "\n",
       "                                            overview runtime  \\\n",
       "0  Twenty-two years after the events of Jurassic ...     124   \n",
       "1  An apocalyptic story set in the furthest reach...     120   \n",
       "2  Beatrice Prior must confront her inner demons ...     119   \n",
       "3  Thirty years after defeating the Galactic Empi...     136   \n",
       "4  Deckard Shaw seeks revenge against Dominic Tor...     137   \n",
       "\n",
       "                                      genres  \\\n",
       "0  Action|Adventure|Science Fiction|Thriller   \n",
       "1  Action|Adventure|Science Fiction|Thriller   \n",
       "2         Adventure|Science Fiction|Thriller   \n",
       "3   Action|Adventure|Science Fiction|Fantasy   \n",
       "4                      Action|Crime|Thriller   \n",
       "\n",
       "                                production_companies release_date vote_count  \\\n",
       "0  Universal Studios|Amblin Entertainment|Legenda...       6/9/15       5562   \n",
       "1  Village Roadshow Pictures|Kennedy Miller Produ...      5/13/15       6185   \n",
       "2  Summit Entertainment|Mandeville Films|Red Wago...      3/18/15       2480   \n",
       "3          Lucasfilm|Truenorth Productions|Bad Robot     12/15/15       5292   \n",
       "4  Universal Pictures|Original Film|Media Rights ...       4/1/15       2947   \n",
       "\n",
       "   vote_average  release_year   budget_adj   revenue_adj  \n",
       "0          6.50          2015 137999939.28 1392445892.52  \n",
       "1          7.10          2015 137999939.28  348161292.49  \n",
       "2          6.30          2015 101199955.47  271619025.41  \n",
       "3          7.50          2015 183999919.04 1902723129.80  \n",
       "4          7.30          2015 174799923.09 1385748801.47  \n",
       "\n",
       "[5 rows x 21 columns]"
      ]
     },
     "execution_count": 3,
     "metadata": {},
     "output_type": "execute_result"
    }
   ],
   "source": [
    "# Load data and print out a few lines\n",
    "\n",
    "df = pd.read_csv('tmdb-movies.csv')\n",
    "df.head()"
   ]
  },
  {
   "cell_type": "markdown",
   "metadata": {},
   "source": [
    "It can be seen that the columns 'cast' and 'genres' include many strings seperated by the special character \"|\"."
   ]
  },
  {
   "cell_type": "code",
   "execution_count": 4,
   "metadata": {
    "scrolled": true
   },
   "outputs": [
    {
     "name": "stdout",
     "output_type": "stream",
     "text": [
      "<class 'pandas.core.frame.DataFrame'>\n",
      "RangeIndex: 10866 entries, 0 to 10865\n",
      "Data columns (total 21 columns):\n",
      "id                      10866 non-null int64\n",
      "imdb_id                 10856 non-null object\n",
      "popularity              10866 non-null float64\n",
      "budget                  10866 non-null int64\n",
      "revenue                 10866 non-null int64\n",
      "original_title          10866 non-null object\n",
      "cast                    10790 non-null object\n",
      "homepage                2936 non-null object\n",
      "director                10822 non-null object\n",
      "tagline                 8042 non-null object\n",
      "keywords                9373 non-null object\n",
      "overview                10862 non-null object\n",
      "runtime                 10866 non-null int64\n",
      "genres                  10843 non-null object\n",
      "production_companies    9836 non-null object\n",
      "release_date            10866 non-null object\n",
      "vote_count              10866 non-null int64\n",
      "vote_average            10866 non-null float64\n",
      "release_year            10866 non-null int64\n",
      "budget_adj              10866 non-null float64\n",
      "revenue_adj             10866 non-null float64\n",
      "dtypes: float64(4), int64(6), object(11)\n",
      "memory usage: 1.7+ MB\n"
     ]
    }
   ],
   "source": [
    "# inspect data types and look for instances of missing or possibly errant data\n",
    "\n",
    "df.info()"
   ]
  },
  {
   "cell_type": "markdown",
   "metadata": {},
   "source": [
    "It can be seen from the df.info() method that homepage, tagline, keywords and production_companies have a lot of null values. Moreover, these information fields are not critically important to the questions planned to be answered. Thus, those columns should be deleted from the data to make it easier to follow and avoid deleting too many rows."
   ]
  },
  {
   "cell_type": "code",
   "execution_count": 5,
   "metadata": {},
   "outputs": [
    {
     "data": {
      "text/plain": [
       "(10866, 21)"
      ]
     },
     "execution_count": 5,
     "metadata": {},
     "output_type": "execute_result"
    }
   ],
   "source": [
    "df.shape"
   ]
  },
  {
   "cell_type": "code",
   "execution_count": 6,
   "metadata": {
    "scrolled": true
   },
   "outputs": [
    {
     "data": {
      "text/html": [
       "<div>\n",
       "<style scoped>\n",
       "    .dataframe tbody tr th:only-of-type {\n",
       "        vertical-align: middle;\n",
       "    }\n",
       "\n",
       "    .dataframe tbody tr th {\n",
       "        vertical-align: top;\n",
       "    }\n",
       "\n",
       "    .dataframe thead th {\n",
       "        text-align: right;\n",
       "    }\n",
       "</style>\n",
       "<table border=\"1\" class=\"dataframe\">\n",
       "  <thead>\n",
       "    <tr style=\"text-align: right;\">\n",
       "      <th></th>\n",
       "      <th>id</th>\n",
       "      <th>popularity</th>\n",
       "      <th>budget</th>\n",
       "      <th>revenue</th>\n",
       "      <th>runtime</th>\n",
       "      <th>vote_count</th>\n",
       "      <th>vote_average</th>\n",
       "      <th>release_year</th>\n",
       "      <th>budget_adj</th>\n",
       "      <th>revenue_adj</th>\n",
       "    </tr>\n",
       "  </thead>\n",
       "  <tbody>\n",
       "    <tr>\n",
       "      <th>count</th>\n",
       "      <td>10866.00</td>\n",
       "      <td>10866.00</td>\n",
       "      <td>10866.00</td>\n",
       "      <td>10866.00</td>\n",
       "      <td>10866.00</td>\n",
       "      <td>10866.00</td>\n",
       "      <td>10866.00</td>\n",
       "      <td>10866.00</td>\n",
       "      <td>10866.00</td>\n",
       "      <td>10866.00</td>\n",
       "    </tr>\n",
       "    <tr>\n",
       "      <th>mean</th>\n",
       "      <td>66064.18</td>\n",
       "      <td>0.65</td>\n",
       "      <td>14625701.09</td>\n",
       "      <td>39823319.79</td>\n",
       "      <td>102.07</td>\n",
       "      <td>217.39</td>\n",
       "      <td>5.97</td>\n",
       "      <td>2001.32</td>\n",
       "      <td>17551039.82</td>\n",
       "      <td>51364363.25</td>\n",
       "    </tr>\n",
       "    <tr>\n",
       "      <th>std</th>\n",
       "      <td>92130.14</td>\n",
       "      <td>1.00</td>\n",
       "      <td>30913213.83</td>\n",
       "      <td>117003486.58</td>\n",
       "      <td>31.38</td>\n",
       "      <td>575.62</td>\n",
       "      <td>0.94</td>\n",
       "      <td>12.81</td>\n",
       "      <td>34306155.72</td>\n",
       "      <td>144632485.04</td>\n",
       "    </tr>\n",
       "    <tr>\n",
       "      <th>min</th>\n",
       "      <td>5.00</td>\n",
       "      <td>0.00</td>\n",
       "      <td>0.00</td>\n",
       "      <td>0.00</td>\n",
       "      <td>0.00</td>\n",
       "      <td>10.00</td>\n",
       "      <td>1.50</td>\n",
       "      <td>1960.00</td>\n",
       "      <td>0.00</td>\n",
       "      <td>0.00</td>\n",
       "    </tr>\n",
       "    <tr>\n",
       "      <th>25%</th>\n",
       "      <td>10596.25</td>\n",
       "      <td>0.21</td>\n",
       "      <td>0.00</td>\n",
       "      <td>0.00</td>\n",
       "      <td>90.00</td>\n",
       "      <td>17.00</td>\n",
       "      <td>5.40</td>\n",
       "      <td>1995.00</td>\n",
       "      <td>0.00</td>\n",
       "      <td>0.00</td>\n",
       "    </tr>\n",
       "    <tr>\n",
       "      <th>50%</th>\n",
       "      <td>20669.00</td>\n",
       "      <td>0.38</td>\n",
       "      <td>0.00</td>\n",
       "      <td>0.00</td>\n",
       "      <td>99.00</td>\n",
       "      <td>38.00</td>\n",
       "      <td>6.00</td>\n",
       "      <td>2006.00</td>\n",
       "      <td>0.00</td>\n",
       "      <td>0.00</td>\n",
       "    </tr>\n",
       "    <tr>\n",
       "      <th>75%</th>\n",
       "      <td>75610.00</td>\n",
       "      <td>0.71</td>\n",
       "      <td>15000000.00</td>\n",
       "      <td>24000000.00</td>\n",
       "      <td>111.00</td>\n",
       "      <td>145.75</td>\n",
       "      <td>6.60</td>\n",
       "      <td>2011.00</td>\n",
       "      <td>20853251.08</td>\n",
       "      <td>33697095.72</td>\n",
       "    </tr>\n",
       "    <tr>\n",
       "      <th>max</th>\n",
       "      <td>417859.00</td>\n",
       "      <td>32.99</td>\n",
       "      <td>425000000.00</td>\n",
       "      <td>2781505847.00</td>\n",
       "      <td>900.00</td>\n",
       "      <td>9767.00</td>\n",
       "      <td>9.20</td>\n",
       "      <td>2015.00</td>\n",
       "      <td>425000000.00</td>\n",
       "      <td>2827123750.41</td>\n",
       "    </tr>\n",
       "  </tbody>\n",
       "</table>\n",
       "</div>"
      ],
      "text/plain": [
       "             id  popularity       budget       revenue  runtime  vote_count  \\\n",
       "count  10866.00    10866.00     10866.00      10866.00 10866.00    10866.00   \n",
       "mean   66064.18        0.65  14625701.09   39823319.79   102.07      217.39   \n",
       "std    92130.14        1.00  30913213.83  117003486.58    31.38      575.62   \n",
       "min        5.00        0.00         0.00          0.00     0.00       10.00   \n",
       "25%    10596.25        0.21         0.00          0.00    90.00       17.00   \n",
       "50%    20669.00        0.38         0.00          0.00    99.00       38.00   \n",
       "75%    75610.00        0.71  15000000.00   24000000.00   111.00      145.75   \n",
       "max   417859.00       32.99 425000000.00 2781505847.00   900.00     9767.00   \n",
       "\n",
       "       vote_average  release_year   budget_adj   revenue_adj  \n",
       "count      10866.00      10866.00     10866.00      10866.00  \n",
       "mean           5.97       2001.32  17551039.82   51364363.25  \n",
       "std            0.94         12.81  34306155.72  144632485.04  \n",
       "min            1.50       1960.00         0.00          0.00  \n",
       "25%            5.40       1995.00         0.00          0.00  \n",
       "50%            6.00       2006.00         0.00          0.00  \n",
       "75%            6.60       2011.00  20853251.08   33697095.72  \n",
       "max            9.20       2015.00 425000000.00 2827123750.41  "
      ]
     },
     "execution_count": 6,
     "metadata": {},
     "output_type": "execute_result"
    }
   ],
   "source": [
    "df.describe()"
   ]
  },
  {
   "cell_type": "markdown",
   "metadata": {},
   "source": [
    "The df.describe() method demonstrates that budget, revenue and their adjusted columns include a lot of value \"0\". Thus, we will look at the histogram to see further:"
   ]
  },
  {
   "cell_type": "code",
   "execution_count": 7,
   "metadata": {
    "scrolled": true
   },
   "outputs": [
    {
     "data": {
      "image/png": "[encoded data removed]",
      "text/plain": [
       "<Figure size 1080x720 with 12 Axes>"
      ]
     },
     "metadata": {
      "needs_background": "light"
     },
     "output_type": "display_data"
    }
   ],
   "source": [
    "df.hist(figsize = (15,10));"
   ]
  },
  {
   "cell_type": "markdown",
   "metadata": {},
   "source": [
    "The previous impression about revenue and budget is confirmed by histogram. It is clear that these zero values affect the accuracy and consistency of the dataset, which need to be dropped."
   ]
  },
  {
   "cell_type": "markdown",
   "metadata": {},
   "source": [
    "### Data Cleaning\n",
    "\n",
    "There are several columns which will not be necessary to answer the questions, which shall be deleted from the dataset: \n",
    "- imdb_id\n",
    "- homepage\n",
    "- tagline\n",
    "- keywords\n",
    "- overview\n",
    "- production_companies\n",
    "- release date\n",
    "\n",
    "In addition, many rows of the following columns have a special character \"|\", which should be defined and modified to have a clean data:\n",
    "- cast\n",
    "- director\n",
    "- genres\n",
    "\n",
    "Finally, as illustrated in the df.describe() and df.hist() method, runtime, budget and revenue, adjusted budget and revenue contain a lot of value zero. Thus, \"0\" values will be transfered into \"NAN\" and these rows will be removed to ensure consistent analysis. After that, we will delete any duplicated rows."
   ]
  },
  {
   "cell_type": "markdown",
   "metadata": {},
   "source": [
    "Drop unnecessary columns:"
   ]
  },
  {
   "cell_type": "code",
   "execution_count": 8,
   "metadata": {},
   "outputs": [],
   "source": [
    "# drop columns\n",
    "\n",
    "df.drop(['imdb_id', 'homepage', 'tagline', 'keywords', 'overview', 'production_companies', 'release_date'], axis = 1, inplace = True)"
   ]
  },
  {
   "cell_type": "markdown",
   "metadata": {},
   "source": [
    "Replace the rows containing zero values with NAN and drop those rows from the dataframe:"
   ]
  },
  {
   "cell_type": "code",
   "execution_count": 9,
   "metadata": {},
   "outputs": [],
   "source": [
    "# replace \"0\" with \"NA\" and drop those rows\n",
    "\n",
    "columns = ['revenue', 'budget', 'revenue_adj', 'budget_adj', 'runtime']\n",
    "df[columns] = df[columns].replace(0, np.NAN)\n",
    "df.dropna(axis = 0, inplace = True)"
   ]
  },
  {
   "cell_type": "code",
   "execution_count": 10,
   "metadata": {},
   "outputs": [
    {
     "data": {
      "text/plain": [
       "(3850, 14)"
      ]
     },
     "execution_count": 10,
     "metadata": {},
     "output_type": "execute_result"
    }
   ],
   "source": [
    "# test\n",
    "\n",
    "df.shape"
   ]
  },
  {
   "cell_type": "code",
   "execution_count": 11,
   "metadata": {
    "scrolled": true
   },
   "outputs": [
    {
     "data": {
      "text/html": [
       "<div>\n",
       "<style scoped>\n",
       "    .dataframe tbody tr th:only-of-type {\n",
       "        vertical-align: middle;\n",
       "    }\n",
       "\n",
       "    .dataframe tbody tr th {\n",
       "        vertical-align: top;\n",
       "    }\n",
       "\n",
       "    .dataframe thead th {\n",
       "        text-align: right;\n",
       "    }\n",
       "</style>\n",
       "<table border=\"1\" class=\"dataframe\">\n",
       "  <thead>\n",
       "    <tr style=\"text-align: right;\">\n",
       "      <th></th>\n",
       "      <th>id</th>\n",
       "      <th>popularity</th>\n",
       "      <th>budget</th>\n",
       "      <th>revenue</th>\n",
       "      <th>runtime</th>\n",
       "      <th>vote_count</th>\n",
       "      <th>vote_average</th>\n",
       "      <th>release_year</th>\n",
       "      <th>budget_adj</th>\n",
       "      <th>revenue_adj</th>\n",
       "    </tr>\n",
       "  </thead>\n",
       "  <tbody>\n",
       "    <tr>\n",
       "      <th>count</th>\n",
       "      <td>3850.00</td>\n",
       "      <td>3850.00</td>\n",
       "      <td>3850.00</td>\n",
       "      <td>3850.00</td>\n",
       "      <td>3850.00</td>\n",
       "      <td>3850.00</td>\n",
       "      <td>3850.00</td>\n",
       "      <td>3850.00</td>\n",
       "      <td>3850.00</td>\n",
       "      <td>3850.00</td>\n",
       "    </tr>\n",
       "    <tr>\n",
       "      <th>mean</th>\n",
       "      <td>39885.75</td>\n",
       "      <td>1.19</td>\n",
       "      <td>37246977.16</td>\n",
       "      <td>107787058.93</td>\n",
       "      <td>109.21</td>\n",
       "      <td>528.28</td>\n",
       "      <td>6.17</td>\n",
       "      <td>2001.26</td>\n",
       "      <td>44289889.01</td>\n",
       "      <td>137195925.29</td>\n",
       "    </tr>\n",
       "    <tr>\n",
       "      <th>std</th>\n",
       "      <td>67240.16</td>\n",
       "      <td>1.48</td>\n",
       "      <td>42211665.40</td>\n",
       "      <td>176602976.66</td>\n",
       "      <td>19.91</td>\n",
       "      <td>880.25</td>\n",
       "      <td>0.79</td>\n",
       "      <td>11.29</td>\n",
       "      <td>44808371.61</td>\n",
       "      <td>216184829.85</td>\n",
       "    </tr>\n",
       "    <tr>\n",
       "      <th>min</th>\n",
       "      <td>5.00</td>\n",
       "      <td>0.00</td>\n",
       "      <td>1.00</td>\n",
       "      <td>2.00</td>\n",
       "      <td>15.00</td>\n",
       "      <td>10.00</td>\n",
       "      <td>2.20</td>\n",
       "      <td>1960.00</td>\n",
       "      <td>0.97</td>\n",
       "      <td>2.37</td>\n",
       "    </tr>\n",
       "    <tr>\n",
       "      <th>25%</th>\n",
       "      <td>6072.25</td>\n",
       "      <td>0.46</td>\n",
       "      <td>10000000.00</td>\n",
       "      <td>13632728.25</td>\n",
       "      <td>95.00</td>\n",
       "      <td>71.00</td>\n",
       "      <td>5.70</td>\n",
       "      <td>1995.00</td>\n",
       "      <td>13172182.04</td>\n",
       "      <td>18414975.58</td>\n",
       "    </tr>\n",
       "    <tr>\n",
       "      <th>50%</th>\n",
       "      <td>11316.00</td>\n",
       "      <td>0.80</td>\n",
       "      <td>24000000.00</td>\n",
       "      <td>44884723.50</td>\n",
       "      <td>106.00</td>\n",
       "      <td>204.50</td>\n",
       "      <td>6.20</td>\n",
       "      <td>2004.00</td>\n",
       "      <td>30045238.97</td>\n",
       "      <td>61790728.18</td>\n",
       "    </tr>\n",
       "    <tr>\n",
       "      <th>75%</th>\n",
       "      <td>38578.00</td>\n",
       "      <td>1.37</td>\n",
       "      <td>50000000.00</td>\n",
       "      <td>124296916.75</td>\n",
       "      <td>119.00</td>\n",
       "      <td>580.75</td>\n",
       "      <td>6.70</td>\n",
       "      <td>2010.00</td>\n",
       "      <td>60728665.94</td>\n",
       "      <td>163377455.06</td>\n",
       "    </tr>\n",
       "    <tr>\n",
       "      <th>max</th>\n",
       "      <td>417859.00</td>\n",
       "      <td>32.99</td>\n",
       "      <td>425000000.00</td>\n",
       "      <td>2781505847.00</td>\n",
       "      <td>338.00</td>\n",
       "      <td>9767.00</td>\n",
       "      <td>8.40</td>\n",
       "      <td>2015.00</td>\n",
       "      <td>425000000.00</td>\n",
       "      <td>2827123750.41</td>\n",
       "    </tr>\n",
       "  </tbody>\n",
       "</table>\n",
       "</div>"
      ],
      "text/plain": [
       "             id  popularity       budget       revenue  runtime  vote_count  \\\n",
       "count   3850.00     3850.00      3850.00       3850.00  3850.00     3850.00   \n",
       "mean   39885.75        1.19  37246977.16  107787058.93   109.21      528.28   \n",
       "std    67240.16        1.48  42211665.40  176602976.66    19.91      880.25   \n",
       "min        5.00        0.00         1.00          2.00    15.00       10.00   \n",
       "25%     6072.25        0.46  10000000.00   13632728.25    95.00       71.00   \n",
       "50%    11316.00        0.80  24000000.00   44884723.50   106.00      204.50   \n",
       "75%    38578.00        1.37  50000000.00  124296916.75   119.00      580.75   \n",
       "max   417859.00       32.99 425000000.00 2781505847.00   338.00     9767.00   \n",
       "\n",
       "       vote_average  release_year   budget_adj   revenue_adj  \n",
       "count       3850.00       3850.00      3850.00       3850.00  \n",
       "mean           6.17       2001.26  44289889.01  137195925.29  \n",
       "std            0.79         11.29  44808371.61  216184829.85  \n",
       "min            2.20       1960.00         0.97          2.37  \n",
       "25%            5.70       1995.00  13172182.04   18414975.58  \n",
       "50%            6.20       2004.00  30045238.97   61790728.18  \n",
       "75%            6.70       2010.00  60728665.94  163377455.06  \n",
       "max            8.40       2015.00 425000000.00 2827123750.41  "
      ]
     },
     "execution_count": 11,
     "metadata": {},
     "output_type": "execute_result"
    }
   ],
   "source": [
    "df.describe()"
   ]
  },
  {
   "cell_type": "code",
   "execution_count": 12,
   "metadata": {},
   "outputs": [
    {
     "name": "stdout",
     "output_type": "stream",
     "text": [
      "<class 'pandas.core.frame.DataFrame'>\n",
      "Int64Index: 3850 entries, 0 to 10848\n",
      "Data columns (total 14 columns):\n",
      "id                3850 non-null int64\n",
      "popularity        3850 non-null float64\n",
      "budget            3850 non-null float64\n",
      "revenue           3850 non-null float64\n",
      "original_title    3850 non-null object\n",
      "cast              3850 non-null object\n",
      "director          3850 non-null object\n",
      "runtime           3850 non-null float64\n",
      "genres            3850 non-null object\n",
      "vote_count        3850 non-null int64\n",
      "vote_average      3850 non-null float64\n",
      "release_year      3850 non-null int64\n",
      "budget_adj        3850 non-null float64\n",
      "revenue_adj       3850 non-null float64\n",
      "dtypes: float64(7), int64(3), object(4)\n",
      "memory usage: 451.2+ KB\n"
     ]
    }
   ],
   "source": [
    "df.info()"
   ]
  },
  {
   "cell_type": "markdown",
   "metadata": {},
   "source": [
    "Currently, the dataset has no zero value in budget and revenue columns. The dataset now includes only 3850 movies, with 14 columns of information. Now we will modify the columns with \"|\":"
   ]
  },
  {
   "cell_type": "code",
   "execution_count": 13,
   "metadata": {},
   "outputs": [],
   "source": [
    "# split string by '|', divide into various columns with director column, \n",
    "# since films usually have only 1 main director, we will split string and \n",
    "# take the first director and the director column will be replaced in the original dataframe\n",
    "\n",
    "df.director = df.director.str.split(\"|\").str[0]"
   ]
  },
  {
   "cell_type": "code",
   "execution_count": 14,
   "metadata": {},
   "outputs": [
    {
     "data": {
      "text/plain": [
       "Steven Spielberg        27\n",
       "Clint Eastwood          24\n",
       "Ridley Scott            21\n",
       "Woody Allen             18\n",
       "Steven Soderbergh       17\n",
       "Tim Burton              17\n",
       "Martin Scorsese         17\n",
       "Oliver Stone            15\n",
       "Brian De Palma          15\n",
       "Renny Harlin            15\n",
       "Robert Zemeckis         15\n",
       "Robert Rodriguez        15\n",
       "Ron Howard              14\n",
       "Tony Scott              14\n",
       "Wes Craven              14\n",
       "Joel Schumacher         14\n",
       "Francis Ford Coppola    13\n",
       "Richard Donner          13\n",
       "John Carpenter          12\n",
       "Walter Hill             12\n",
       "Name: director, dtype: int64"
      ]
     },
     "execution_count": 14,
     "metadata": {},
     "output_type": "execute_result"
    }
   ],
   "source": [
    "df.director.value_counts()[0:20]"
   ]
  },
  {
   "cell_type": "code",
   "execution_count": 15,
   "metadata": {},
   "outputs": [],
   "source": [
    "# split string by '|' for cast and genres\n",
    "# create two dataframe genres and cast to store these values\n",
    "\n",
    "def separate(x):\n",
    "    return x.str[0:].str.split('|', expand = True)\n",
    "genres = separate(df['genres'])\n",
    "cast = separate(df['cast'])"
   ]
  },
  {
   "cell_type": "code",
   "execution_count": 16,
   "metadata": {},
   "outputs": [
    {
     "name": "stdout",
     "output_type": "stream",
     "text": [
      "<class 'pandas.core.frame.DataFrame'>\n",
      "Int64Index: 3850 entries, 0 to 10848\n",
      "Data columns (total 5 columns):\n",
      "0    3850 non-null object\n",
      "1    3203 non-null object\n",
      "2    2110 non-null object\n",
      "3    872 non-null object\n",
      "4    260 non-null object\n",
      "dtypes: object(5)\n",
      "memory usage: 180.5+ KB\n"
     ]
    }
   ],
   "source": [
    "#data frame genres \n",
    "genres.info()"
   ]
  },
  {
   "cell_type": "code",
   "execution_count": 17,
   "metadata": {},
   "outputs": [],
   "source": [
    "#copy id column from the original dataframe to genres and cast dataframe \n",
    "#to merge in the next part of investigating data\n",
    "genres['id'] = df['id']\n",
    "cast['id'] = df['id']"
   ]
  },
  {
   "cell_type": "code",
   "execution_count": 18,
   "metadata": {},
   "outputs": [],
   "source": [
    "# turn columns into rows for cast and genres data\n",
    "def col_into_row(x):\n",
    "    return pd.melt(x, col_level = 0, id_vars = 'id', value_vars = [0,1,2,3,4]) \n",
    "\n",
    "genres = col_into_row(genres)\n",
    "cast = col_into_row(cast)"
   ]
  },
  {
   "cell_type": "code",
   "execution_count": 19,
   "metadata": {},
   "outputs": [
    {
     "data": {
      "text/html": [
       "<div>\n",
       "<style scoped>\n",
       "    .dataframe tbody tr th:only-of-type {\n",
       "        vertical-align: middle;\n",
       "    }\n",
       "\n",
       "    .dataframe tbody tr th {\n",
       "        vertical-align: top;\n",
       "    }\n",
       "\n",
       "    .dataframe thead th {\n",
       "        text-align: right;\n",
       "    }\n",
       "</style>\n",
       "<table border=\"1\" class=\"dataframe\">\n",
       "  <thead>\n",
       "    <tr style=\"text-align: right;\">\n",
       "      <th></th>\n",
       "      <th>id</th>\n",
       "      <th>variable</th>\n",
       "      <th>value</th>\n",
       "    </tr>\n",
       "  </thead>\n",
       "  <tbody>\n",
       "    <tr>\n",
       "      <th>0</th>\n",
       "      <td>135397</td>\n",
       "      <td>0</td>\n",
       "      <td>Action</td>\n",
       "    </tr>\n",
       "    <tr>\n",
       "      <th>1</th>\n",
       "      <td>76341</td>\n",
       "      <td>0</td>\n",
       "      <td>Action</td>\n",
       "    </tr>\n",
       "    <tr>\n",
       "      <th>2</th>\n",
       "      <td>262500</td>\n",
       "      <td>0</td>\n",
       "      <td>Adventure</td>\n",
       "    </tr>\n",
       "    <tr>\n",
       "      <th>3</th>\n",
       "      <td>140607</td>\n",
       "      <td>0</td>\n",
       "      <td>Action</td>\n",
       "    </tr>\n",
       "    <tr>\n",
       "      <th>4</th>\n",
       "      <td>168259</td>\n",
       "      <td>0</td>\n",
       "      <td>Action</td>\n",
       "    </tr>\n",
       "  </tbody>\n",
       "</table>\n",
       "</div>"
      ],
      "text/plain": [
       "       id variable      value\n",
       "0  135397        0     Action\n",
       "1   76341        0     Action\n",
       "2  262500        0  Adventure\n",
       "3  140607        0     Action\n",
       "4  168259        0     Action"
      ]
     },
     "execution_count": 19,
     "metadata": {},
     "output_type": "execute_result"
    }
   ],
   "source": [
    "genres.head()"
   ]
  },
  {
   "cell_type": "code",
   "execution_count": 20,
   "metadata": {},
   "outputs": [],
   "source": [
    "# drop variable column as not necessary\n",
    " \n",
    "genres.drop('variable', axis=1, inplace=True)\n",
    "cast.drop('variable', axis=1, inplace=True)"
   ]
  },
  {
   "cell_type": "code",
   "execution_count": 21,
   "metadata": {},
   "outputs": [
    {
     "data": {
      "text/html": [
       "<div>\n",
       "<style scoped>\n",
       "    .dataframe tbody tr th:only-of-type {\n",
       "        vertical-align: middle;\n",
       "    }\n",
       "\n",
       "    .dataframe tbody tr th {\n",
       "        vertical-align: top;\n",
       "    }\n",
       "\n",
       "    .dataframe thead th {\n",
       "        text-align: right;\n",
       "    }\n",
       "</style>\n",
       "<table border=\"1\" class=\"dataframe\">\n",
       "  <thead>\n",
       "    <tr style=\"text-align: right;\">\n",
       "      <th></th>\n",
       "      <th>id</th>\n",
       "      <th>value</th>\n",
       "    </tr>\n",
       "  </thead>\n",
       "  <tbody>\n",
       "    <tr>\n",
       "      <th>0</th>\n",
       "      <td>135397</td>\n",
       "      <td>Action</td>\n",
       "    </tr>\n",
       "    <tr>\n",
       "      <th>1</th>\n",
       "      <td>76341</td>\n",
       "      <td>Action</td>\n",
       "    </tr>\n",
       "    <tr>\n",
       "      <th>2</th>\n",
       "      <td>262500</td>\n",
       "      <td>Adventure</td>\n",
       "    </tr>\n",
       "    <tr>\n",
       "      <th>3</th>\n",
       "      <td>140607</td>\n",
       "      <td>Action</td>\n",
       "    </tr>\n",
       "    <tr>\n",
       "      <th>4</th>\n",
       "      <td>168259</td>\n",
       "      <td>Action</td>\n",
       "    </tr>\n",
       "  </tbody>\n",
       "</table>\n",
       "</div>"
      ],
      "text/plain": [
       "       id      value\n",
       "0  135397     Action\n",
       "1   76341     Action\n",
       "2  262500  Adventure\n",
       "3  140607     Action\n",
       "4  168259     Action"
      ]
     },
     "execution_count": 21,
     "metadata": {},
     "output_type": "execute_result"
    }
   ],
   "source": [
    "#test\n",
    "\n",
    "genres.head()"
   ]
  },
  {
   "cell_type": "code",
   "execution_count": 22,
   "metadata": {},
   "outputs": [],
   "source": [
    "#rename columns value in genres and cast dataframe\n",
    "\n",
    "genres.rename(columns = {'value':'genres'}, inplace = True)\n",
    "cast.rename(columns = {'value':'cast'}, inplace = True)"
   ]
  },
  {
   "cell_type": "markdown",
   "metadata": {},
   "source": [
    "Finally, duplicated rows will be removed:"
   ]
  },
  {
   "cell_type": "code",
   "execution_count": 23,
   "metadata": {},
   "outputs": [],
   "source": [
    "# remove duplicated rows\n",
    "\n",
    "genres.dropna(inplace = True)\n",
    "cast.dropna(inplace = True)"
   ]
  },
  {
   "cell_type": "code",
   "execution_count": 24,
   "metadata": {},
   "outputs": [
    {
     "data": {
      "text/plain": [
       "(None, None)"
      ]
     },
     "execution_count": 24,
     "metadata": {},
     "output_type": "execute_result"
    }
   ],
   "source": [
    "# test\n",
    "\n",
    "genres.drop_duplicates(inplace = True), cast.drop_duplicates(inplace = True) "
   ]
  },
  {
   "cell_type": "markdown",
   "metadata": {},
   "source": [
    "After creating dataframe genres and cast, we come back to the original df and clean it:"
   ]
  },
  {
   "cell_type": "code",
   "execution_count": 25,
   "metadata": {},
   "outputs": [],
   "source": [
    "df = df.drop(columns = ['cast', 'genres'], axis = 1)"
   ]
  },
  {
   "cell_type": "code",
   "execution_count": 26,
   "metadata": {},
   "outputs": [
    {
     "data": {
      "text/html": [
       "<div>\n",
       "<style scoped>\n",
       "    .dataframe tbody tr th:only-of-type {\n",
       "        vertical-align: middle;\n",
       "    }\n",
       "\n",
       "    .dataframe tbody tr th {\n",
       "        vertical-align: top;\n",
       "    }\n",
       "\n",
       "    .dataframe thead th {\n",
       "        text-align: right;\n",
       "    }\n",
       "</style>\n",
       "<table border=\"1\" class=\"dataframe\">\n",
       "  <thead>\n",
       "    <tr style=\"text-align: right;\">\n",
       "      <th></th>\n",
       "      <th>id</th>\n",
       "      <th>popularity</th>\n",
       "      <th>budget</th>\n",
       "      <th>revenue</th>\n",
       "      <th>original_title</th>\n",
       "      <th>director</th>\n",
       "      <th>runtime</th>\n",
       "      <th>vote_count</th>\n",
       "      <th>vote_average</th>\n",
       "      <th>release_year</th>\n",
       "      <th>budget_adj</th>\n",
       "      <th>revenue_adj</th>\n",
       "    </tr>\n",
       "  </thead>\n",
       "  <tbody>\n",
       "    <tr>\n",
       "      <th>0</th>\n",
       "      <td>135397</td>\n",
       "      <td>32.99</td>\n",
       "      <td>150000000.00</td>\n",
       "      <td>1513528810.00</td>\n",
       "      <td>Jurassic World</td>\n",
       "      <td>Colin Trevorrow</td>\n",
       "      <td>124.00</td>\n",
       "      <td>5562</td>\n",
       "      <td>6.50</td>\n",
       "      <td>2015</td>\n",
       "      <td>137999939.28</td>\n",
       "      <td>1392445892.52</td>\n",
       "    </tr>\n",
       "    <tr>\n",
       "      <th>1</th>\n",
       "      <td>76341</td>\n",
       "      <td>28.42</td>\n",
       "      <td>150000000.00</td>\n",
       "      <td>378436354.00</td>\n",
       "      <td>Mad Max: Fury Road</td>\n",
       "      <td>George Miller</td>\n",
       "      <td>120.00</td>\n",
       "      <td>6185</td>\n",
       "      <td>7.10</td>\n",
       "      <td>2015</td>\n",
       "      <td>137999939.28</td>\n",
       "      <td>348161292.49</td>\n",
       "    </tr>\n",
       "    <tr>\n",
       "      <th>2</th>\n",
       "      <td>262500</td>\n",
       "      <td>13.11</td>\n",
       "      <td>110000000.00</td>\n",
       "      <td>295238201.00</td>\n",
       "      <td>Insurgent</td>\n",
       "      <td>Robert Schwentke</td>\n",
       "      <td>119.00</td>\n",
       "      <td>2480</td>\n",
       "      <td>6.30</td>\n",
       "      <td>2015</td>\n",
       "      <td>101199955.47</td>\n",
       "      <td>271619025.41</td>\n",
       "    </tr>\n",
       "    <tr>\n",
       "      <th>3</th>\n",
       "      <td>140607</td>\n",
       "      <td>11.17</td>\n",
       "      <td>200000000.00</td>\n",
       "      <td>2068178225.00</td>\n",
       "      <td>Star Wars: The Force Awakens</td>\n",
       "      <td>J.J. Abrams</td>\n",
       "      <td>136.00</td>\n",
       "      <td>5292</td>\n",
       "      <td>7.50</td>\n",
       "      <td>2015</td>\n",
       "      <td>183999919.04</td>\n",
       "      <td>1902723129.80</td>\n",
       "    </tr>\n",
       "    <tr>\n",
       "      <th>4</th>\n",
       "      <td>168259</td>\n",
       "      <td>9.34</td>\n",
       "      <td>190000000.00</td>\n",
       "      <td>1506249360.00</td>\n",
       "      <td>Furious 7</td>\n",
       "      <td>James Wan</td>\n",
       "      <td>137.00</td>\n",
       "      <td>2947</td>\n",
       "      <td>7.30</td>\n",
       "      <td>2015</td>\n",
       "      <td>174799923.09</td>\n",
       "      <td>1385748801.47</td>\n",
       "    </tr>\n",
       "  </tbody>\n",
       "</table>\n",
       "</div>"
      ],
      "text/plain": [
       "       id  popularity       budget       revenue  \\\n",
       "0  135397       32.99 150000000.00 1513528810.00   \n",
       "1   76341       28.42 150000000.00  378436354.00   \n",
       "2  262500       13.11 110000000.00  295238201.00   \n",
       "3  140607       11.17 200000000.00 2068178225.00   \n",
       "4  168259        9.34 190000000.00 1506249360.00   \n",
       "\n",
       "                 original_title          director  runtime  vote_count  \\\n",
       "0                Jurassic World   Colin Trevorrow   124.00        5562   \n",
       "1            Mad Max: Fury Road     George Miller   120.00        6185   \n",
       "2                     Insurgent  Robert Schwentke   119.00        2480   \n",
       "3  Star Wars: The Force Awakens       J.J. Abrams   136.00        5292   \n",
       "4                     Furious 7         James Wan   137.00        2947   \n",
       "\n",
       "   vote_average  release_year   budget_adj   revenue_adj  \n",
       "0          6.50          2015 137999939.28 1392445892.52  \n",
       "1          7.10          2015 137999939.28  348161292.49  \n",
       "2          6.30          2015 101199955.47  271619025.41  \n",
       "3          7.50          2015 183999919.04 1902723129.80  \n",
       "4          7.30          2015 174799923.09 1385748801.47  "
      ]
     },
     "execution_count": 26,
     "metadata": {},
     "output_type": "execute_result"
    }
   ],
   "source": [
    "df.head()"
   ]
  },
  {
   "cell_type": "code",
   "execution_count": 27,
   "metadata": {},
   "outputs": [
    {
     "data": {
      "text/plain": [
       "0"
      ]
     },
     "execution_count": 27,
     "metadata": {},
     "output_type": "execute_result"
    }
   ],
   "source": [
    "# remove duplicated rows if any \n",
    "\n",
    "df.drop_duplicates(inplace = True)\n",
    "df.duplicated().sum()"
   ]
  },
  {
   "cell_type": "code",
   "execution_count": 28,
   "metadata": {},
   "outputs": [
    {
     "data": {
      "text/plain": [
       "id                  int64\n",
       "popularity        float64\n",
       "budget            float64\n",
       "revenue           float64\n",
       "original_title     object\n",
       "director           object\n",
       "runtime           float64\n",
       "vote_count          int64\n",
       "vote_average      float64\n",
       "release_year        int64\n",
       "budget_adj        float64\n",
       "revenue_adj       float64\n",
       "dtype: object"
      ]
     },
     "execution_count": 28,
     "metadata": {},
     "output_type": "execute_result"
    }
   ],
   "source": [
    "df.dtypes"
   ]
  },
  {
   "cell_type": "markdown",
   "metadata": {},
   "source": [
    "This is how the final dataset look like after data cleaning:"
   ]
  },
  {
   "cell_type": "code",
   "execution_count": 29,
   "metadata": {},
   "outputs": [
    {
     "name": "stdout",
     "output_type": "stream",
     "text": [
      "The movie dataset now has 3849 rows and 12 columns.\n"
     ]
    }
   ],
   "source": [
    "print('The movie dataset now has {} rows and {} columns.'.format(df.shape[0],df.shape[1]))"
   ]
  },
  {
   "cell_type": "markdown",
   "metadata": {},
   "source": [
    "After cleaning, I store the three dataframes into new csv files:"
   ]
  },
  {
   "cell_type": "code",
   "execution_count": 31,
   "metadata": {},
   "outputs": [],
   "source": [
    "genres.to_csv('genres.csv', index = False)\n",
    "cast.to_csv('cast.csv', index = False)\n",
    "df.to_csv('cleaned_movie_dataset.csv', index = False)"
   ]
  },
  {
   "cell_type": "markdown",
   "metadata": {},
   "source": [
    "<a id='eda'></a>\n",
    "## Exploratory Data Analysis\n",
    "\n",
    "### Research Question 1 - Which genres are most popular from year to year?"
   ]
  },
  {
   "cell_type": "markdown",
   "metadata": {},
   "source": [
    "Firstly, based on the number of movie made in each genre, we have the following genres in which films are made the most:"
   ]
  },
  {
   "cell_type": "code",
   "execution_count": 30,
   "metadata": {},
   "outputs": [
    {
     "data": {
      "text/plain": [
       "Drama              1753\n",
       "Comedy             1357\n",
       "Thriller           1203\n",
       "Action             1085\n",
       "Adventure           749\n",
       "Romance             666\n",
       "Crime               651\n",
       "Science Fiction     519\n",
       "Horror              463\n",
       "Family              425\n",
       "Fantasy             396\n",
       "Mystery             344\n",
       "Animation           201\n",
       "Music               134\n",
       "History             129\n",
       "War                 119\n",
       "Western              52\n",
       "Documentary          31\n",
       "Foreign              12\n",
       "TV Movie              1\n",
       "Name: genres, dtype: int64"
      ]
     },
     "execution_count": 30,
     "metadata": {},
     "output_type": "execute_result"
    }
   ],
   "source": [
    "# use value_counts to find the number of films in each genre\n",
    "\n",
    "genres['genres'].value_counts()"
   ]
  },
  {
   "cell_type": "markdown",
   "metadata": {},
   "source": [
    "Plot the bar graph to visualise the genres with higher number of movies produced:"
   ]
  },
  {
   "cell_type": "code",
   "execution_count": 31,
   "metadata": {},
   "outputs": [
    {
     "data": {
      "image/png": "[encoded data removed]",
      "text/plain": [
       "<Figure size 1296x720 with 1 Axes>"
      ]
     },
     "metadata": {
      "needs_background": "light"
     },
     "output_type": "display_data"
    }
   ],
   "source": [
    "plt.figure(figsize = (18,10))\n",
    "sns.countplot(x = \"genres\", data = genres, order = genres['genres'].value_counts().index) \n",
    "plt.xlabel('Genres' , fontsize = 25)\n",
    "plt.ylabel('Number of movies in the genre' , fontsize = 25)\n",
    "plt.title('Number of movies in each genre throughout the years',fontsize = 40)\n",
    "plt.show();"
   ]
  },
  {
   "cell_type": "markdown",
   "metadata": {},
   "source": [
    "It is clear that drama, comedy and thriller are the top three genres which have the most films throughout the investigated period."
   ]
  },
  {
   "cell_type": "markdown",
   "metadata": {},
   "source": [
    "Secondly, utilising the data about popularity, we can find out the most popular genre in each year based on the mean of popularity of each genre group by release year as follows:"
   ]
  },
  {
   "cell_type": "code",
   "execution_count": 32,
   "metadata": {},
   "outputs": [
    {
     "data": {
      "text/html": [
       "<div>\n",
       "<style scoped>\n",
       "    .dataframe tbody tr th:only-of-type {\n",
       "        vertical-align: middle;\n",
       "    }\n",
       "\n",
       "    .dataframe tbody tr th {\n",
       "        vertical-align: top;\n",
       "    }\n",
       "\n",
       "    .dataframe thead th {\n",
       "        text-align: right;\n",
       "    }\n",
       "</style>\n",
       "<table border=\"1\" class=\"dataframe\">\n",
       "  <thead>\n",
       "    <tr style=\"text-align: right;\">\n",
       "      <th></th>\n",
       "      <th></th>\n",
       "      <th>id</th>\n",
       "      <th>popularity</th>\n",
       "      <th>budget</th>\n",
       "      <th>revenue</th>\n",
       "      <th>runtime</th>\n",
       "      <th>vote_count</th>\n",
       "      <th>vote_average</th>\n",
       "      <th>budget_adj</th>\n",
       "      <th>revenue_adj</th>\n",
       "    </tr>\n",
       "    <tr>\n",
       "      <th>release_year</th>\n",
       "      <th>genres</th>\n",
       "      <th></th>\n",
       "      <th></th>\n",
       "      <th></th>\n",
       "      <th></th>\n",
       "      <th></th>\n",
       "      <th></th>\n",
       "      <th></th>\n",
       "      <th></th>\n",
       "      <th></th>\n",
       "    </tr>\n",
       "  </thead>\n",
       "  <tbody>\n",
       "    <tr>\n",
       "      <th>1960</th>\n",
       "      <th>Horror</th>\n",
       "      <td>539.00</td>\n",
       "      <td>2.61</td>\n",
       "      <td>806948.00</td>\n",
       "      <td>32000000.00</td>\n",
       "      <td>109.00</td>\n",
       "      <td>1180.00</td>\n",
       "      <td>8.00</td>\n",
       "      <td>5949601.34</td>\n",
       "      <td>235934958.63</td>\n",
       "    </tr>\n",
       "    <tr>\n",
       "      <th>1961</th>\n",
       "      <th>Animation</th>\n",
       "      <td>12230.00</td>\n",
       "      <td>2.63</td>\n",
       "      <td>4000000.00</td>\n",
       "      <td>215880014.00</td>\n",
       "      <td>79.00</td>\n",
       "      <td>913.00</td>\n",
       "      <td>6.60</td>\n",
       "      <td>29179444.83</td>\n",
       "      <td>1574814739.70</td>\n",
       "    </tr>\n",
       "    <tr>\n",
       "      <th>1962</th>\n",
       "      <th>Thriller</th>\n",
       "      <td>646.00</td>\n",
       "      <td>3.17</td>\n",
       "      <td>1100000.00</td>\n",
       "      <td>59600000.00</td>\n",
       "      <td>110.00</td>\n",
       "      <td>560.00</td>\n",
       "      <td>6.70</td>\n",
       "      <td>7929293.77</td>\n",
       "      <td>429623553.17</td>\n",
       "    </tr>\n",
       "    <tr>\n",
       "      <th>1963</th>\n",
       "      <th>Adventure</th>\n",
       "      <td>3291.00</td>\n",
       "      <td>1.59</td>\n",
       "      <td>3250000.00</td>\n",
       "      <td>41949382.50</td>\n",
       "      <td>143.50</td>\n",
       "      <td>433.50</td>\n",
       "      <td>7.10</td>\n",
       "      <td>23140582.96</td>\n",
       "      <td>298687127.93</td>\n",
       "    </tr>\n",
       "    <tr>\n",
       "      <th>1964</th>\n",
       "      <th>Action</th>\n",
       "      <td>658.00</td>\n",
       "      <td>3.15</td>\n",
       "      <td>3500000.00</td>\n",
       "      <td>124900000.00</td>\n",
       "      <td>110.00</td>\n",
       "      <td>602.00</td>\n",
       "      <td>7.00</td>\n",
       "      <td>24605935.94</td>\n",
       "      <td>878080399.54</td>\n",
       "    </tr>\n",
       "    <tr>\n",
       "      <th>1965</th>\n",
       "      <th>Thriller</th>\n",
       "      <td>660.00</td>\n",
       "      <td>1.91</td>\n",
       "      <td>11000000.00</td>\n",
       "      <td>141195658.00</td>\n",
       "      <td>130.00</td>\n",
       "      <td>331.00</td>\n",
       "      <td>6.30</td>\n",
       "      <td>76126200.63</td>\n",
       "      <td>977153544.47</td>\n",
       "    </tr>\n",
       "    <tr>\n",
       "      <th>1966</th>\n",
       "      <th>Drama</th>\n",
       "      <td>3159.50</td>\n",
       "      <td>0.49</td>\n",
       "      <td>9750000.00</td>\n",
       "      <td>26868344.50</td>\n",
       "      <td>156.50</td>\n",
       "      <td>51.00</td>\n",
       "      <td>7.25</td>\n",
       "      <td>65500643.25</td>\n",
       "      <td>180501933.11</td>\n",
       "    </tr>\n",
       "    <tr>\n",
       "      <th>1967</th>\n",
       "      <th>Animation</th>\n",
       "      <td>9325.00</td>\n",
       "      <td>2.55</td>\n",
       "      <td>4000000.00</td>\n",
       "      <td>205843612.00</td>\n",
       "      <td>78.00</td>\n",
       "      <td>928.00</td>\n",
       "      <td>7.00</td>\n",
       "      <td>26147054.96</td>\n",
       "      <td>1345551058.99</td>\n",
       "    </tr>\n",
       "    <tr>\n",
       "      <th>1968</th>\n",
       "      <th>Mystery</th>\n",
       "      <td>579.33</td>\n",
       "      <td>1.73</td>\n",
       "      <td>7000000.00</td>\n",
       "      <td>41168741.00</td>\n",
       "      <td>132.33</td>\n",
       "      <td>875.00</td>\n",
       "      <td>7.40</td>\n",
       "      <td>43882745.30</td>\n",
       "      <td>258085339.40</td>\n",
       "    </tr>\n",
       "    <tr>\n",
       "      <th>1969</th>\n",
       "      <th>Action</th>\n",
       "      <td>668.00</td>\n",
       "      <td>1.78</td>\n",
       "      <td>7000000.00</td>\n",
       "      <td>81974493.00</td>\n",
       "      <td>142.00</td>\n",
       "      <td>258.00</td>\n",
       "      <td>6.40</td>\n",
       "      <td>41609849.41</td>\n",
       "      <td>487278044.15</td>\n",
       "    </tr>\n",
       "    <tr>\n",
       "      <th>1970</th>\n",
       "      <th>Animation</th>\n",
       "      <td>10112.00</td>\n",
       "      <td>1.94</td>\n",
       "      <td>4000000.00</td>\n",
       "      <td>55675257.00</td>\n",
       "      <td>78.00</td>\n",
       "      <td>625.00</td>\n",
       "      <td>7.00</td>\n",
       "      <td>22465473.38</td>\n",
       "      <td>312692750.95</td>\n",
       "    </tr>\n",
       "    <tr>\n",
       "      <th>1971</th>\n",
       "      <th>Family</th>\n",
       "      <td>252.00</td>\n",
       "      <td>2.43</td>\n",
       "      <td>3000000.00</td>\n",
       "      <td>4000000.00</td>\n",
       "      <td>100.00</td>\n",
       "      <td>434.00</td>\n",
       "      <td>7.20</td>\n",
       "      <td>16155584.74</td>\n",
       "      <td>21540779.66</td>\n",
       "    </tr>\n",
       "    <tr>\n",
       "      <th>1972</th>\n",
       "      <th>Drama</th>\n",
       "      <td>3826.67</td>\n",
       "      <td>2.43</td>\n",
       "      <td>3833333.33</td>\n",
       "      <td>101262922.00</td>\n",
       "      <td>133.33</td>\n",
       "      <td>1412.33</td>\n",
       "      <td>7.40</td>\n",
       "      <td>19989150.24</td>\n",
       "      <td>528041676.86</td>\n",
       "    </tr>\n",
       "    <tr>\n",
       "      <th>1973</th>\n",
       "      <th>Animation</th>\n",
       "      <td>11886.00</td>\n",
       "      <td>2.27</td>\n",
       "      <td>15000000.00</td>\n",
       "      <td>32056467.00</td>\n",
       "      <td>83.00</td>\n",
       "      <td>641.00</td>\n",
       "      <td>6.90</td>\n",
       "      <td>73667393.68</td>\n",
       "      <td>157434424.97</td>\n",
       "    </tr>\n",
       "    <tr>\n",
       "      <th>1974</th>\n",
       "      <th>Crime</th>\n",
       "      <td>4144.20</td>\n",
       "      <td>1.30</td>\n",
       "      <td>5320000.00</td>\n",
       "      <td>23352568.20</td>\n",
       "      <td>129.20</td>\n",
       "      <td>567.60</td>\n",
       "      <td>7.18</td>\n",
       "      <td>23526550.29</td>\n",
       "      <td>103271686.11</td>\n",
       "    </tr>\n",
       "    <tr>\n",
       "      <th>1975</th>\n",
       "      <th>Adventure</th>\n",
       "      <td>670.00</td>\n",
       "      <td>2.40</td>\n",
       "      <td>3700000.00</td>\n",
       "      <td>237841474.00</td>\n",
       "      <td>107.50</td>\n",
       "      <td>1256.00</td>\n",
       "      <td>7.45</td>\n",
       "      <td>14991738.34</td>\n",
       "      <td>963691119.95</td>\n",
       "    </tr>\n",
       "    <tr>\n",
       "      <th>1976</th>\n",
       "      <th>Crime</th>\n",
       "      <td>5535.33</td>\n",
       "      <td>1.30</td>\n",
       "      <td>4100000.00</td>\n",
       "      <td>27466191.33</td>\n",
       "      <td>110.00</td>\n",
       "      <td>467.67</td>\n",
       "      <td>7.03</td>\n",
       "      <td>15709961.92</td>\n",
       "      <td>105242151.18</td>\n",
       "    </tr>\n",
       "    <tr>\n",
       "      <th>1977</th>\n",
       "      <th>Action</th>\n",
       "      <td>12757.17</td>\n",
       "      <td>2.71</td>\n",
       "      <td>10333333.33</td>\n",
       "      <td>174208556.33</td>\n",
       "      <td>117.17</td>\n",
       "      <td>806.67</td>\n",
       "      <td>6.63</td>\n",
       "      <td>37177070.67</td>\n",
       "      <td>626764239.69</td>\n",
       "    </tr>\n",
       "    <tr>\n",
       "      <th>1978</th>\n",
       "      <th>Music</th>\n",
       "      <td>12791.00</td>\n",
       "      <td>0.99</td>\n",
       "      <td>15000000.00</td>\n",
       "      <td>101431411.50</td>\n",
       "      <td>122.00</td>\n",
       "      <td>408.00</td>\n",
       "      <td>6.55</td>\n",
       "      <td>50140510.42</td>\n",
       "      <td>339054849.71</td>\n",
       "    </tr>\n",
       "    <tr>\n",
       "      <th>1979</th>\n",
       "      <th>Horror</th>\n",
       "      <td>4993.00</td>\n",
       "      <td>2.87</td>\n",
       "      <td>5650000.00</td>\n",
       "      <td>58460135.00</td>\n",
       "      <td>103.00</td>\n",
       "      <td>1387.00</td>\n",
       "      <td>6.85</td>\n",
       "      <td>16975730.11</td>\n",
       "      <td>175646632.60</td>\n",
       "    </tr>\n",
       "    <tr>\n",
       "      <th>1980</th>\n",
       "      <th>Adventure</th>\n",
       "      <td>5372.00</td>\n",
       "      <td>2.72</td>\n",
       "      <td>25500000.00</td>\n",
       "      <td>235146270.67</td>\n",
       "      <td>118.33</td>\n",
       "      <td>1481.67</td>\n",
       "      <td>6.70</td>\n",
       "      <td>67473937.20</td>\n",
       "      <td>622205674.50</td>\n",
       "    </tr>\n",
       "    <tr>\n",
       "      <th>1981</th>\n",
       "      <th>Adventure</th>\n",
       "      <td>11280.67</td>\n",
       "      <td>1.58</td>\n",
       "      <td>13333333.33</td>\n",
       "      <td>120516252.33</td>\n",
       "      <td>108.83</td>\n",
       "      <td>663.50</td>\n",
       "      <td>6.72</td>\n",
       "      <td>31975877.40</td>\n",
       "      <td>289020968.18</td>\n",
       "    </tr>\n",
       "    <tr>\n",
       "      <th>1982</th>\n",
       "      <th>Science Fiction</th>\n",
       "      <td>3345.86</td>\n",
       "      <td>1.82</td>\n",
       "      <td>14000000.00</td>\n",
       "      <td>150621343.71</td>\n",
       "      <td>111.71</td>\n",
       "      <td>817.86</td>\n",
       "      <td>6.54</td>\n",
       "      <td>31634993.64</td>\n",
       "      <td>340350374.99</td>\n",
       "    </tr>\n",
       "    <tr>\n",
       "      <th>1983</th>\n",
       "      <th>Adventure</th>\n",
       "      <td>12450.86</td>\n",
       "      <td>1.55</td>\n",
       "      <td>24978571.43</td>\n",
       "      <td>153227718.86</td>\n",
       "      <td>115.29</td>\n",
       "      <td>584.29</td>\n",
       "      <td>6.07</td>\n",
       "      <td>54685886.12</td>\n",
       "      <td>335463283.28</td>\n",
       "    </tr>\n",
       "    <tr>\n",
       "      <th>1984</th>\n",
       "      <th>Family</th>\n",
       "      <td>12330.67</td>\n",
       "      <td>1.82</td>\n",
       "      <td>21733333.33</td>\n",
       "      <td>131802225.67</td>\n",
       "      <td>105.33</td>\n",
       "      <td>716.33</td>\n",
       "      <td>6.67</td>\n",
       "      <td>45619180.32</td>\n",
       "      <td>276658412.53</td>\n",
       "    </tr>\n",
       "    <tr>\n",
       "      <th>1985</th>\n",
       "      <th>Family</th>\n",
       "      <td>8653.17</td>\n",
       "      <td>1.53</td>\n",
       "      <td>24000000.00</td>\n",
       "      <td>88028040.00</td>\n",
       "      <td>108.33</td>\n",
       "      <td>818.33</td>\n",
       "      <td>6.58</td>\n",
       "      <td>48651985.25</td>\n",
       "      <td>178447454.34</td>\n",
       "    </tr>\n",
       "    <tr>\n",
       "      <th>1986</th>\n",
       "      <th>Animation</th>\n",
       "      <td>9994.00</td>\n",
       "      <td>1.14</td>\n",
       "      <td>14000000.00</td>\n",
       "      <td>82424789.00</td>\n",
       "      <td>74.00</td>\n",
       "      <td>174.00</td>\n",
       "      <td>6.70</td>\n",
       "      <td>27851689.75</td>\n",
       "      <td>163976403.65</td>\n",
       "    </tr>\n",
       "    <tr>\n",
       "      <th>1987</th>\n",
       "      <th>War</th>\n",
       "      <td>700.50</td>\n",
       "      <td>1.52</td>\n",
       "      <td>15000000.00</td>\n",
       "      <td>85140023.00</td>\n",
       "      <td>118.50</td>\n",
       "      <td>837.00</td>\n",
       "      <td>7.35</td>\n",
       "      <td>28786206.57</td>\n",
       "      <td>163390552.64</td>\n",
       "    </tr>\n",
       "    <tr>\n",
       "      <th>1988</th>\n",
       "      <th>Animation</th>\n",
       "      <td>6500.00</td>\n",
       "      <td>1.11</td>\n",
       "      <td>41150000.00</td>\n",
       "      <td>207132402.00</td>\n",
       "      <td>86.50</td>\n",
       "      <td>531.50</td>\n",
       "      <td>6.90</td>\n",
       "      <td>75876115.60</td>\n",
       "      <td>381929576.64</td>\n",
       "    </tr>\n",
       "    <tr>\n",
       "      <th>1989</th>\n",
       "      <th>Animation</th>\n",
       "      <td>10820.50</td>\n",
       "      <td>2.31</td>\n",
       "      <td>26900000.00</td>\n",
       "      <td>119221753.00</td>\n",
       "      <td>86.00</td>\n",
       "      <td>587.50</td>\n",
       "      <td>6.70</td>\n",
       "      <td>47316694.86</td>\n",
       "      <td>209709267.93</td>\n",
       "    </tr>\n",
       "    <tr>\n",
       "      <th>1990</th>\n",
       "      <th>Western</th>\n",
       "      <td>581.00</td>\n",
       "      <td>1.70</td>\n",
       "      <td>22000000.00</td>\n",
       "      <td>424208848.00</td>\n",
       "      <td>181.00</td>\n",
       "      <td>585.00</td>\n",
       "      <td>7.30</td>\n",
       "      <td>36715767.89</td>\n",
       "      <td>707961527.22</td>\n",
       "    </tr>\n",
       "    <tr>\n",
       "      <th>1991</th>\n",
       "      <th>Animation</th>\n",
       "      <td>15220.50</td>\n",
       "      <td>2.15</td>\n",
       "      <td>21500000.00</td>\n",
       "      <td>194503969.00</td>\n",
       "      <td>80.50</td>\n",
       "      <td>862.00</td>\n",
       "      <td>6.30</td>\n",
       "      <td>34423496.10</td>\n",
       "      <td>311418912.49</td>\n",
       "    </tr>\n",
       "    <tr>\n",
       "      <th>1992</th>\n",
       "      <th>Animation</th>\n",
       "      <td>812.00</td>\n",
       "      <td>3.97</td>\n",
       "      <td>28000000.00</td>\n",
       "      <td>504050219.00</td>\n",
       "      <td>90.00</td>\n",
       "      <td>2121.00</td>\n",
       "      <td>7.30</td>\n",
       "      <td>43512679.13</td>\n",
       "      <td>783306265.86</td>\n",
       "    </tr>\n",
       "    <tr>\n",
       "      <th>1993</th>\n",
       "      <th>War</th>\n",
       "      <td>4839.50</td>\n",
       "      <td>1.63</td>\n",
       "      <td>23500000.00</td>\n",
       "      <td>227509296.50</td>\n",
       "      <td>140.50</td>\n",
       "      <td>1443.50</td>\n",
       "      <td>7.10</td>\n",
       "      <td>35472544.10</td>\n",
       "      <td>343418449.07</td>\n",
       "    </tr>\n",
       "    <tr>\n",
       "      <th>1994</th>\n",
       "      <th>Crime</th>\n",
       "      <td>9668.43</td>\n",
       "      <td>2.02</td>\n",
       "      <td>27385714.29</td>\n",
       "      <td>117936818.93</td>\n",
       "      <td>110.00</td>\n",
       "      <td>1064.07</td>\n",
       "      <td>6.47</td>\n",
       "      <td>40287440.91</td>\n",
       "      <td>173498217.86</td>\n",
       "    </tr>\n",
       "    <tr>\n",
       "      <th>1995</th>\n",
       "      <th>Animation</th>\n",
       "      <td>22013.33</td>\n",
       "      <td>2.13</td>\n",
       "      <td>37666666.67</td>\n",
       "      <td>237340807.00</td>\n",
       "      <td>78.67</td>\n",
       "      <td>1315.67</td>\n",
       "      <td>6.30</td>\n",
       "      <td>53899751.99</td>\n",
       "      <td>339626831.03</td>\n",
       "    </tr>\n",
       "    <tr>\n",
       "      <th>1996</th>\n",
       "      <th>Animation</th>\n",
       "      <td>7794.67</td>\n",
       "      <td>1.33</td>\n",
       "      <td>72666666.67</td>\n",
       "      <td>119686705.00</td>\n",
       "      <td>86.00</td>\n",
       "      <td>501.33</td>\n",
       "      <td>6.33</td>\n",
       "      <td>101022416.36</td>\n",
       "      <td>166390460.72</td>\n",
       "    </tr>\n",
       "    <tr>\n",
       "      <th>1997</th>\n",
       "      <th>Animation</th>\n",
       "      <td>15358.67</td>\n",
       "      <td>1.95</td>\n",
       "      <td>56666666.67</td>\n",
       "      <td>132027695.33</td>\n",
       "      <td>87.33</td>\n",
       "      <td>575.00</td>\n",
       "      <td>7.10</td>\n",
       "      <td>76979418.19</td>\n",
       "      <td>179354385.39</td>\n",
       "    </tr>\n",
       "    <tr>\n",
       "      <th>1998</th>\n",
       "      <th>Animation</th>\n",
       "      <td>9728.50</td>\n",
       "      <td>2.11</td>\n",
       "      <td>85000000.00</td>\n",
       "      <td>264522467.50</td>\n",
       "      <td>91.25</td>\n",
       "      <td>842.75</td>\n",
       "      <td>6.65</td>\n",
       "      <td>113704114.87</td>\n",
       "      <td>353850506.24</td>\n",
       "    </tr>\n",
       "    <tr>\n",
       "      <th>1999</th>\n",
       "      <th>Fantasy</th>\n",
       "      <td>9233.15</td>\n",
       "      <td>1.37</td>\n",
       "      <td>75230769.23</td>\n",
       "      <td>137320965.54</td>\n",
       "      <td>111.38</td>\n",
       "      <td>637.23</td>\n",
       "      <td>6.36</td>\n",
       "      <td>98481052.61</td>\n",
       "      <td>179760400.84</td>\n",
       "    </tr>\n",
       "    <tr>\n",
       "      <th>2000</th>\n",
       "      <th>Fantasy</th>\n",
       "      <td>8329.90</td>\n",
       "      <td>1.18</td>\n",
       "      <td>69500000.00</td>\n",
       "      <td>124121172.30</td>\n",
       "      <td>103.60</td>\n",
       "      <td>370.60</td>\n",
       "      <td>5.65</td>\n",
       "      <td>88007301.95</td>\n",
       "      <td>157173661.71</td>\n",
       "    </tr>\n",
       "    <tr>\n",
       "      <th>2001</th>\n",
       "      <th>Fantasy</th>\n",
       "      <td>7483.25</td>\n",
       "      <td>2.90</td>\n",
       "      <td>77583333.33</td>\n",
       "      <td>330744235.67</td>\n",
       "      <td>109.17</td>\n",
       "      <td>1822.50</td>\n",
       "      <td>6.13</td>\n",
       "      <td>95542953.05</td>\n",
       "      <td>407307595.89</td>\n",
       "    </tr>\n",
       "    <tr>\n",
       "      <th>2002</th>\n",
       "      <th>Fantasy</th>\n",
       "      <td>7074.22</td>\n",
       "      <td>2.60</td>\n",
       "      <td>77555555.56</td>\n",
       "      <td>363428285.22</td>\n",
       "      <td>114.00</td>\n",
       "      <td>1502.67</td>\n",
       "      <td>6.28</td>\n",
       "      <td>94017605.86</td>\n",
       "      <td>440570079.52</td>\n",
       "    </tr>\n",
       "    <tr>\n",
       "      <th>2003</th>\n",
       "      <th>Fantasy</th>\n",
       "      <td>5965.93</td>\n",
       "      <td>2.91</td>\n",
       "      <td>74285714.29</td>\n",
       "      <td>256536145.93</td>\n",
       "      <td>115.29</td>\n",
       "      <td>1389.00</td>\n",
       "      <td>6.24</td>\n",
       "      <td>88054767.90</td>\n",
       "      <td>304085799.06</td>\n",
       "    </tr>\n",
       "    <tr>\n",
       "      <th>2004</th>\n",
       "      <th>Fantasy</th>\n",
       "      <td>6064.10</td>\n",
       "      <td>2.06</td>\n",
       "      <td>100400000.00</td>\n",
       "      <td>336216249.70</td>\n",
       "      <td>108.10</td>\n",
       "      <td>1238.50</td>\n",
       "      <td>6.25</td>\n",
       "      <td>115906318.14</td>\n",
       "      <td>388143302.81</td>\n",
       "    </tr>\n",
       "    <tr>\n",
       "      <th>2005</th>\n",
       "      <th>Fantasy</th>\n",
       "      <td>15704.21</td>\n",
       "      <td>1.75</td>\n",
       "      <td>67250000.00</td>\n",
       "      <td>190910226.00</td>\n",
       "      <td>107.89</td>\n",
       "      <td>827.53</td>\n",
       "      <td>5.82</td>\n",
       "      <td>75088881.23</td>\n",
       "      <td>213163349.97</td>\n",
       "    </tr>\n",
       "    <tr>\n",
       "      <th>2006</th>\n",
       "      <th>Animation</th>\n",
       "      <td>7568.75</td>\n",
       "      <td>1.54</td>\n",
       "      <td>77375000.00</td>\n",
       "      <td>192073517.67</td>\n",
       "      <td>93.00</td>\n",
       "      <td>652.25</td>\n",
       "      <td>5.97</td>\n",
       "      <td>83694151.12</td>\n",
       "      <td>207760000.18</td>\n",
       "    </tr>\n",
       "    <tr>\n",
       "      <th>2007</th>\n",
       "      <th>Fantasy</th>\n",
       "      <td>6357.45</td>\n",
       "      <td>1.76</td>\n",
       "      <td>107450000.00</td>\n",
       "      <td>334284721.05</td>\n",
       "      <td>110.45</td>\n",
       "      <td>983.05</td>\n",
       "      <td>5.92</td>\n",
       "      <td>113001789.20</td>\n",
       "      <td>351556738.78</td>\n",
       "    </tr>\n",
       "    <tr>\n",
       "      <th>2008</th>\n",
       "      <th>Animation</th>\n",
       "      <td>11573.64</td>\n",
       "      <td>1.51</td>\n",
       "      <td>75545454.55</td>\n",
       "      <td>235762917.55</td>\n",
       "      <td>90.18</td>\n",
       "      <td>889.91</td>\n",
       "      <td>6.29</td>\n",
       "      <td>76511426.61</td>\n",
       "      <td>238777531.64</td>\n",
       "    </tr>\n",
       "    <tr>\n",
       "      <th>2009</th>\n",
       "      <th>War</th>\n",
       "      <td>11542.33</td>\n",
       "      <td>2.71</td>\n",
       "      <td>40000000.00</td>\n",
       "      <td>143726252.33</td>\n",
       "      <td>116.67</td>\n",
       "      <td>1595.00</td>\n",
       "      <td>6.73</td>\n",
       "      <td>40656017.36</td>\n",
       "      <td>146083425.27</td>\n",
       "    </tr>\n",
       "    <tr>\n",
       "      <th>2010</th>\n",
       "      <th>Adventure</th>\n",
       "      <td>28077.65</td>\n",
       "      <td>2.18</td>\n",
       "      <td>110967741.94</td>\n",
       "      <td>305247819.00</td>\n",
       "      <td>110.81</td>\n",
       "      <td>1533.39</td>\n",
       "      <td>6.27</td>\n",
       "      <td>110967741.94</td>\n",
       "      <td>305247819.00</td>\n",
       "    </tr>\n",
       "    <tr>\n",
       "      <th>2011</th>\n",
       "      <th>Fantasy</th>\n",
       "      <td>55372.32</td>\n",
       "      <td>1.98</td>\n",
       "      <td>90163157.89</td>\n",
       "      <td>320011546.32</td>\n",
       "      <td>106.32</td>\n",
       "      <td>1148.68</td>\n",
       "      <td>5.93</td>\n",
       "      <td>87403988.78</td>\n",
       "      <td>310218566.61</td>\n",
       "    </tr>\n",
       "    <tr>\n",
       "      <th>2012</th>\n",
       "      <th>Western</th>\n",
       "      <td>68718.00</td>\n",
       "      <td>5.94</td>\n",
       "      <td>100000000.00</td>\n",
       "      <td>425368238.00</td>\n",
       "      <td>165.00</td>\n",
       "      <td>7375.00</td>\n",
       "      <td>7.70</td>\n",
       "      <td>94974428.14</td>\n",
       "      <td>403991051.51</td>\n",
       "    </tr>\n",
       "    <tr>\n",
       "      <th>2013</th>\n",
       "      <th>Science Fiction</th>\n",
       "      <td>87446.95</td>\n",
       "      <td>2.88</td>\n",
       "      <td>105330000.00</td>\n",
       "      <td>348825089.65</td>\n",
       "      <td>115.60</td>\n",
       "      <td>2660.40</td>\n",
       "      <td>6.47</td>\n",
       "      <td>98592393.04</td>\n",
       "      <td>326511918.19</td>\n",
       "    </tr>\n",
       "    <tr>\n",
       "      <th>2014</th>\n",
       "      <th>Science Fiction</th>\n",
       "      <td>161569.65</td>\n",
       "      <td>5.48</td>\n",
       "      <td>95121739.13</td>\n",
       "      <td>327739597.30</td>\n",
       "      <td>117.96</td>\n",
       "      <td>2310.91</td>\n",
       "      <td>6.43</td>\n",
       "      <td>87615782.65</td>\n",
       "      <td>301878010.06</td>\n",
       "    </tr>\n",
       "    <tr>\n",
       "      <th>2015</th>\n",
       "      <th>Science Fiction</th>\n",
       "      <td>192784.59</td>\n",
       "      <td>7.59</td>\n",
       "      <td>107681818.36</td>\n",
       "      <td>436801298.36</td>\n",
       "      <td>118.91</td>\n",
       "      <td>2485.41</td>\n",
       "      <td>6.42</td>\n",
       "      <td>99067229.30</td>\n",
       "      <td>401857017.68</td>\n",
       "    </tr>\n",
       "  </tbody>\n",
       "</table>\n",
       "</div>"
      ],
      "text/plain": [
       "                                    id  popularity       budget      revenue  \\\n",
       "release_year genres                                                            \n",
       "1960         Horror             539.00        2.61    806948.00  32000000.00   \n",
       "1961         Animation        12230.00        2.63   4000000.00 215880014.00   \n",
       "1962         Thriller           646.00        3.17   1100000.00  59600000.00   \n",
       "1963         Adventure         3291.00        1.59   3250000.00  41949382.50   \n",
       "1964         Action             658.00        3.15   3500000.00 124900000.00   \n",
       "1965         Thriller           660.00        1.91  11000000.00 141195658.00   \n",
       "1966         Drama             3159.50        0.49   9750000.00  26868344.50   \n",
       "1967         Animation         9325.00        2.55   4000000.00 205843612.00   \n",
       "1968         Mystery            579.33        1.73   7000000.00  41168741.00   \n",
       "1969         Action             668.00        1.78   7000000.00  81974493.00   \n",
       "1970         Animation        10112.00        1.94   4000000.00  55675257.00   \n",
       "1971         Family             252.00        2.43   3000000.00   4000000.00   \n",
       "1972         Drama             3826.67        2.43   3833333.33 101262922.00   \n",
       "1973         Animation        11886.00        2.27  15000000.00  32056467.00   \n",
       "1974         Crime             4144.20        1.30   5320000.00  23352568.20   \n",
       "1975         Adventure          670.00        2.40   3700000.00 237841474.00   \n",
       "1976         Crime             5535.33        1.30   4100000.00  27466191.33   \n",
       "1977         Action           12757.17        2.71  10333333.33 174208556.33   \n",
       "1978         Music            12791.00        0.99  15000000.00 101431411.50   \n",
       "1979         Horror            4993.00        2.87   5650000.00  58460135.00   \n",
       "1980         Adventure         5372.00        2.72  25500000.00 235146270.67   \n",
       "1981         Adventure        11280.67        1.58  13333333.33 120516252.33   \n",
       "1982         Science Fiction   3345.86        1.82  14000000.00 150621343.71   \n",
       "1983         Adventure        12450.86        1.55  24978571.43 153227718.86   \n",
       "1984         Family           12330.67        1.82  21733333.33 131802225.67   \n",
       "1985         Family            8653.17        1.53  24000000.00  88028040.00   \n",
       "1986         Animation         9994.00        1.14  14000000.00  82424789.00   \n",
       "1987         War                700.50        1.52  15000000.00  85140023.00   \n",
       "1988         Animation         6500.00        1.11  41150000.00 207132402.00   \n",
       "1989         Animation        10820.50        2.31  26900000.00 119221753.00   \n",
       "1990         Western            581.00        1.70  22000000.00 424208848.00   \n",
       "1991         Animation        15220.50        2.15  21500000.00 194503969.00   \n",
       "1992         Animation          812.00        3.97  28000000.00 504050219.00   \n",
       "1993         War               4839.50        1.63  23500000.00 227509296.50   \n",
       "1994         Crime             9668.43        2.02  27385714.29 117936818.93   \n",
       "1995         Animation        22013.33        2.13  37666666.67 237340807.00   \n",
       "1996         Animation         7794.67        1.33  72666666.67 119686705.00   \n",
       "1997         Animation        15358.67        1.95  56666666.67 132027695.33   \n",
       "1998         Animation         9728.50        2.11  85000000.00 264522467.50   \n",
       "1999         Fantasy           9233.15        1.37  75230769.23 137320965.54   \n",
       "2000         Fantasy           8329.90        1.18  69500000.00 124121172.30   \n",
       "2001         Fantasy           7483.25        2.90  77583333.33 330744235.67   \n",
       "2002         Fantasy           7074.22        2.60  77555555.56 363428285.22   \n",
       "2003         Fantasy           5965.93        2.91  74285714.29 256536145.93   \n",
       "2004         Fantasy           6064.10        2.06 100400000.00 336216249.70   \n",
       "2005         Fantasy          15704.21        1.75  67250000.00 190910226.00   \n",
       "2006         Animation         7568.75        1.54  77375000.00 192073517.67   \n",
       "2007         Fantasy           6357.45        1.76 107450000.00 334284721.05   \n",
       "2008         Animation        11573.64        1.51  75545454.55 235762917.55   \n",
       "2009         War              11542.33        2.71  40000000.00 143726252.33   \n",
       "2010         Adventure        28077.65        2.18 110967741.94 305247819.00   \n",
       "2011         Fantasy          55372.32        1.98  90163157.89 320011546.32   \n",
       "2012         Western          68718.00        5.94 100000000.00 425368238.00   \n",
       "2013         Science Fiction  87446.95        2.88 105330000.00 348825089.65   \n",
       "2014         Science Fiction 161569.65        5.48  95121739.13 327739597.30   \n",
       "2015         Science Fiction 192784.59        7.59 107681818.36 436801298.36   \n",
       "\n",
       "                              runtime  vote_count  vote_average   budget_adj  \\\n",
       "release_year genres                                                            \n",
       "1960         Horror            109.00     1180.00          8.00   5949601.34   \n",
       "1961         Animation          79.00      913.00          6.60  29179444.83   \n",
       "1962         Thriller          110.00      560.00          6.70   7929293.77   \n",
       "1963         Adventure         143.50      433.50          7.10  23140582.96   \n",
       "1964         Action            110.00      602.00          7.00  24605935.94   \n",
       "1965         Thriller          130.00      331.00          6.30  76126200.63   \n",
       "1966         Drama             156.50       51.00          7.25  65500643.25   \n",
       "1967         Animation          78.00      928.00          7.00  26147054.96   \n",
       "1968         Mystery           132.33      875.00          7.40  43882745.30   \n",
       "1969         Action            142.00      258.00          6.40  41609849.41   \n",
       "1970         Animation          78.00      625.00          7.00  22465473.38   \n",
       "1971         Family            100.00      434.00          7.20  16155584.74   \n",
       "1972         Drama             133.33     1412.33          7.40  19989150.24   \n",
       "1973         Animation          83.00      641.00          6.90  73667393.68   \n",
       "1974         Crime             129.20      567.60          7.18  23526550.29   \n",
       "1975         Adventure         107.50     1256.00          7.45  14991738.34   \n",
       "1976         Crime             110.00      467.67          7.03  15709961.92   \n",
       "1977         Action            117.17      806.67          6.63  37177070.67   \n",
       "1978         Music             122.00      408.00          6.55  50140510.42   \n",
       "1979         Horror            103.00     1387.00          6.85  16975730.11   \n",
       "1980         Adventure         118.33     1481.67          6.70  67473937.20   \n",
       "1981         Adventure         108.83      663.50          6.72  31975877.40   \n",
       "1982         Science Fiction   111.71      817.86          6.54  31634993.64   \n",
       "1983         Adventure         115.29      584.29          6.07  54685886.12   \n",
       "1984         Family            105.33      716.33          6.67  45619180.32   \n",
       "1985         Family            108.33      818.33          6.58  48651985.25   \n",
       "1986         Animation          74.00      174.00          6.70  27851689.75   \n",
       "1987         War               118.50      837.00          7.35  28786206.57   \n",
       "1988         Animation          86.50      531.50          6.90  75876115.60   \n",
       "1989         Animation          86.00      587.50          6.70  47316694.86   \n",
       "1990         Western           181.00      585.00          7.30  36715767.89   \n",
       "1991         Animation          80.50      862.00          6.30  34423496.10   \n",
       "1992         Animation          90.00     2121.00          7.30  43512679.13   \n",
       "1993         War               140.50     1443.50          7.10  35472544.10   \n",
       "1994         Crime             110.00     1064.07          6.47  40287440.91   \n",
       "1995         Animation          78.67     1315.67          6.30  53899751.99   \n",
       "1996         Animation          86.00      501.33          6.33 101022416.36   \n",
       "1997         Animation          87.33      575.00          7.10  76979418.19   \n",
       "1998         Animation          91.25      842.75          6.65 113704114.87   \n",
       "1999         Fantasy           111.38      637.23          6.36  98481052.61   \n",
       "2000         Fantasy           103.60      370.60          5.65  88007301.95   \n",
       "2001         Fantasy           109.17     1822.50          6.13  95542953.05   \n",
       "2002         Fantasy           114.00     1502.67          6.28  94017605.86   \n",
       "2003         Fantasy           115.29     1389.00          6.24  88054767.90   \n",
       "2004         Fantasy           108.10     1238.50          6.25 115906318.14   \n",
       "2005         Fantasy           107.89      827.53          5.82  75088881.23   \n",
       "2006         Animation          93.00      652.25          5.97  83694151.12   \n",
       "2007         Fantasy           110.45      983.05          5.92 113001789.20   \n",
       "2008         Animation          90.18      889.91          6.29  76511426.61   \n",
       "2009         War               116.67     1595.00          6.73  40656017.36   \n",
       "2010         Adventure         110.81     1533.39          6.27 110967741.94   \n",
       "2011         Fantasy           106.32     1148.68          5.93  87403988.78   \n",
       "2012         Western           165.00     7375.00          7.70  94974428.14   \n",
       "2013         Science Fiction   115.60     2660.40          6.47  98592393.04   \n",
       "2014         Science Fiction   117.96     2310.91          6.43  87615782.65   \n",
       "2015         Science Fiction   118.91     2485.41          6.42  99067229.30   \n",
       "\n",
       "                               revenue_adj  \n",
       "release_year genres                         \n",
       "1960         Horror           235934958.63  \n",
       "1961         Animation       1574814739.70  \n",
       "1962         Thriller         429623553.17  \n",
       "1963         Adventure        298687127.93  \n",
       "1964         Action           878080399.54  \n",
       "1965         Thriller         977153544.47  \n",
       "1966         Drama            180501933.11  \n",
       "1967         Animation       1345551058.99  \n",
       "1968         Mystery          258085339.40  \n",
       "1969         Action           487278044.15  \n",
       "1970         Animation        312692750.95  \n",
       "1971         Family            21540779.66  \n",
       "1972         Drama            528041676.86  \n",
       "1973         Animation        157434424.97  \n",
       "1974         Crime            103271686.11  \n",
       "1975         Adventure        963691119.95  \n",
       "1976         Crime            105242151.18  \n",
       "1977         Action           626764239.69  \n",
       "1978         Music            339054849.71  \n",
       "1979         Horror           175646632.60  \n",
       "1980         Adventure        622205674.50  \n",
       "1981         Adventure        289020968.18  \n",
       "1982         Science Fiction  340350374.99  \n",
       "1983         Adventure        335463283.28  \n",
       "1984         Family           276658412.53  \n",
       "1985         Family           178447454.34  \n",
       "1986         Animation        163976403.65  \n",
       "1987         War              163390552.64  \n",
       "1988         Animation        381929576.64  \n",
       "1989         Animation        209709267.93  \n",
       "1990         Western          707961527.22  \n",
       "1991         Animation        311418912.49  \n",
       "1992         Animation        783306265.86  \n",
       "1993         War              343418449.07  \n",
       "1994         Crime            173498217.86  \n",
       "1995         Animation        339626831.03  \n",
       "1996         Animation        166390460.72  \n",
       "1997         Animation        179354385.39  \n",
       "1998         Animation        353850506.24  \n",
       "1999         Fantasy          179760400.84  \n",
       "2000         Fantasy          157173661.71  \n",
       "2001         Fantasy          407307595.89  \n",
       "2002         Fantasy          440570079.52  \n",
       "2003         Fantasy          304085799.06  \n",
       "2004         Fantasy          388143302.81  \n",
       "2005         Fantasy          213163349.97  \n",
       "2006         Animation        207760000.18  \n",
       "2007         Fantasy          351556738.78  \n",
       "2008         Animation        238777531.64  \n",
       "2009         War              146083425.27  \n",
       "2010         Adventure        305247819.00  \n",
       "2011         Fantasy          310218566.61  \n",
       "2012         Western          403991051.51  \n",
       "2013         Science Fiction  326511918.19  \n",
       "2014         Science Fiction  301878010.06  \n",
       "2015         Science Fiction  401857017.68  "
      ]
     },
     "execution_count": 32,
     "metadata": {},
     "output_type": "execute_result"
    }
   ],
   "source": [
    "# merging data of genres and the cleaned movie dataset\n",
    "\n",
    "popular_genres = pd.merge(df, genres, how = 'inner', on = 'id')\n",
    "\n",
    "# defining the mean of popularity of each genre in each release year \n",
    "\n",
    "mean_popu = popular_genres.groupby(['release_year','genres']).mean()\n",
    "\n",
    "# popular genres over years are defined by idxmax method\n",
    "\n",
    "pop_genres_over_years = mean_popu.loc[mean_popu.groupby('release_year')['popularity'].idxmax()]  \n",
    "pop_genres_over_years"
   ]
  },
  {
   "cell_type": "markdown",
   "metadata": {},
   "source": [
    "Looking at the above table, it can be seen that during the recent years, animation, fantasy and science fiction movies are more popular to audience. Now we will take a look at popularity and voting score in general (without specifying the release year): "
   ]
  },
  {
   "cell_type": "code",
   "execution_count": 33,
   "metadata": {},
   "outputs": [
    {
     "data": {
      "text/plain": [
       "genres\n",
       "Science Fiction   1.87\n",
       "Adventure         1.87\n",
       "Fantasy           1.75\n",
       "Animation         1.71\n",
       "Action            1.57\n",
       "Family            1.46\n",
       "Thriller          1.26\n",
       "War               1.25\n",
       "Mystery           1.14\n",
       "Western           1.13\n",
       "Name: popularity, dtype: float64"
      ]
     },
     "execution_count": 33,
     "metadata": {},
     "output_type": "execute_result"
    }
   ],
   "source": [
    "# genres and their mean popularity over the examined time period\n",
    "\n",
    "popular_genres.groupby('genres').mean().sort_values(by = 'popularity', ascending = False ).loc[:,'popularity'][0:10]"
   ]
  },
  {
   "cell_type": "markdown",
   "metadata": {},
   "source": [
    "From the mean popularity over years, it can be seen that science fiction and adventure are the most popular genre with highest mean popularity, following by fantasy and animation. This is in line with the above table about the most popular genre based on mean popularity, measured in each year. "
   ]
  },
  {
   "cell_type": "code",
   "execution_count": 34,
   "metadata": {},
   "outputs": [
    {
     "data": {
      "text/plain": [
       "genres\n",
       "Action             873052\n",
       "Drama              726444\n",
       "Adventure          716264\n",
       "Thriller           659271\n",
       "Comedy             537993\n",
       "Science Fiction    502843\n",
       "Fantasy            355814\n",
       "Crime              338711\n",
       "Family             288915\n",
       "Romance            229408\n",
       "Name: vote_count, dtype: int64"
      ]
     },
     "execution_count": 34,
     "metadata": {},
     "output_type": "execute_result"
    }
   ],
   "source": [
    "# popular genres based on the summary of vote_count\n",
    "\n",
    "popular_genres.groupby('genres').sum().sort_values(by = 'vote_count', ascending = False ).loc[:,'vote_count'][0:10]"
   ]
  },
  {
   "cell_type": "markdown",
   "metadata": {},
   "source": [
    "Assuming that the genres receiving higher total votes are more popular, it can be seen that action, drama and adventure are the top 3 most popular genres, since they have the highest total vote counts."
   ]
  },
  {
   "cell_type": "code",
   "execution_count": 35,
   "metadata": {
    "scrolled": false
   },
   "outputs": [
    {
     "data": {
      "text/plain": [
       "genres\n",
       "Documentary   6.78\n",
       "War           6.59\n",
       "History       6.58\n",
       "Western       6.47\n",
       "Drama         6.40\n",
       "Animation     6.38\n",
       "Music         6.31\n",
       "Crime         6.30\n",
       "Mystery       6.19\n",
       "Romance       6.19\n",
       "Name: vote_average, dtype: float64"
      ]
     },
     "execution_count": 35,
     "metadata": {},
     "output_type": "execute_result"
    }
   ],
   "source": [
    "# popular genres based on mean of vote_average\n",
    "\n",
    "popular_genres.groupby('genres').mean().sort_values(by = 'vote_average', ascending = False ).loc[:,'vote_average'][0:10]"
   ]
  },
  {
   "cell_type": "markdown",
   "metadata": {},
   "source": [
    "The above result demonstrates that documentary and war films receive the highest average vote. We will look at the violin plot to visualise this insight:"
   ]
  },
  {
   "cell_type": "code",
   "execution_count": 36,
   "metadata": {},
   "outputs": [
    {
     "data": {
      "image/png": "[encoded data removed]",
      "text/plain": [
       "<Figure size 1296x576 with 1 Axes>"
      ]
     },
     "metadata": {
      "needs_background": "light"
     },
     "output_type": "display_data"
    }
   ],
   "source": [
    "#box plot each genre and its average vote\n",
    "\n",
    "fig, ax = plt.subplots() \n",
    "fig.set_size_inches(18, 8)\n",
    "sns.violinplot(x = 'genres', y = 'vote_average', data = popular_genres);\n",
    "\n",
    "#naming x-axis , y-axis & chart title\n",
    "plt.xlabel('Genres', fontsize = 20);\n",
    "plt.ylabel('Average Votes', fontsize = 20);\n",
    "plt.title('Each Genre\\'s Average Votes', fontsize = 25);"
   ]
  },
  {
   "cell_type": "markdown",
   "metadata": {},
   "source": [
    "The violin plot visualises the average vote of each genre. It illustrates that documentary has the highest average vote. "
   ]
  },
  {
   "cell_type": "markdown",
   "metadata": {},
   "source": [
    "### Research Question 2  - What properties are correlated with movies having high revenues/profits?"
   ]
  },
  {
   "cell_type": "markdown",
   "metadata": {},
   "source": [
    "This section examines whether higher revenues/profits are associated with genres, budget, popularity and vote_average. I will utilise the adjusted revenues and budgets (i.e.  the budget and revenue of the associated movie in terms of 2010 dollars, accounting for inflation) to be consistent and avoid bias."
   ]
  },
  {
   "cell_type": "code",
   "execution_count": 37,
   "metadata": {},
   "outputs": [],
   "source": [
    "# calculate profit adjusted = revenue adjusted - budget adjusted\n",
    "\n",
    "df['profit_adj'] = df['revenue_adj'].sub(df['budget_adj'], axis = 'index')"
   ]
  },
  {
   "cell_type": "code",
   "execution_count": 38,
   "metadata": {},
   "outputs": [
    {
     "data": {
      "text/html": [
       "<div>\n",
       "<style scoped>\n",
       "    .dataframe tbody tr th:only-of-type {\n",
       "        vertical-align: middle;\n",
       "    }\n",
       "\n",
       "    .dataframe tbody tr th {\n",
       "        vertical-align: top;\n",
       "    }\n",
       "\n",
       "    .dataframe thead th {\n",
       "        text-align: right;\n",
       "    }\n",
       "</style>\n",
       "<table border=\"1\" class=\"dataframe\">\n",
       "  <thead>\n",
       "    <tr style=\"text-align: right;\">\n",
       "      <th></th>\n",
       "      <th>budget_adj</th>\n",
       "      <th>revenue_adj</th>\n",
       "      <th>profit_adj</th>\n",
       "    </tr>\n",
       "  </thead>\n",
       "  <tbody>\n",
       "    <tr>\n",
       "      <th>0</th>\n",
       "      <td>137999939.28</td>\n",
       "      <td>1392445892.52</td>\n",
       "      <td>1254445953.24</td>\n",
       "    </tr>\n",
       "    <tr>\n",
       "      <th>1</th>\n",
       "      <td>137999939.28</td>\n",
       "      <td>348161292.49</td>\n",
       "      <td>210161353.21</td>\n",
       "    </tr>\n",
       "    <tr>\n",
       "      <th>2</th>\n",
       "      <td>101199955.47</td>\n",
       "      <td>271619025.41</td>\n",
       "      <td>170419069.94</td>\n",
       "    </tr>\n",
       "    <tr>\n",
       "      <th>3</th>\n",
       "      <td>183999919.04</td>\n",
       "      <td>1902723129.80</td>\n",
       "      <td>1718723210.76</td>\n",
       "    </tr>\n",
       "    <tr>\n",
       "      <th>4</th>\n",
       "      <td>174799923.09</td>\n",
       "      <td>1385748801.47</td>\n",
       "      <td>1210948878.38</td>\n",
       "    </tr>\n",
       "  </tbody>\n",
       "</table>\n",
       "</div>"
      ],
      "text/plain": [
       "    budget_adj   revenue_adj    profit_adj\n",
       "0 137999939.28 1392445892.52 1254445953.24\n",
       "1 137999939.28  348161292.49  210161353.21\n",
       "2 101199955.47  271619025.41  170419069.94\n",
       "3 183999919.04 1902723129.80 1718723210.76\n",
       "4 174799923.09 1385748801.47 1210948878.38"
      ]
     },
     "execution_count": 38,
     "metadata": {},
     "output_type": "execute_result"
    }
   ],
   "source": [
    "df.loc[:,['budget_adj', 'revenue_adj', 'profit_adj']].head()"
   ]
  },
  {
   "cell_type": "code",
   "execution_count": 39,
   "metadata": {},
   "outputs": [
    {
     "data": {
      "text/plain": [
       "0"
      ]
     },
     "execution_count": 39,
     "metadata": {},
     "output_type": "execute_result"
    }
   ],
   "source": [
    "df.profit_adj.isnull().sum()"
   ]
  },
  {
   "cell_type": "markdown",
   "metadata": {},
   "source": [
    "### 2.1. Revenue/Profit and Genres\n",
    "\n",
    "First of all, we will analyse if high revenue/profit is correlated with the genres of the movies."
   ]
  },
  {
   "cell_type": "code",
   "execution_count": 40,
   "metadata": {},
   "outputs": [],
   "source": [
    "# merging genres data into the dataframe\n",
    "\n",
    "profit_movies = pd.merge(df, genres, how = 'inner', on = 'id')"
   ]
  },
  {
   "cell_type": "markdown",
   "metadata": {},
   "source": [
    "Now we will calculate the mean profit and revenue of each genre to find out the genres with highest average revenue and profit"
   ]
  },
  {
   "cell_type": "code",
   "execution_count": 41,
   "metadata": {},
   "outputs": [
    {
     "data": {
      "text/plain": [
       "genres\n",
       "Animation         207485229.35\n",
       "Adventure         190151742.58\n",
       "Family            172690036.45\n",
       "Fantasy           169755235.39\n",
       "Science Fiction   136535918.49\n",
       "Action            128945315.33\n",
       "Music             100904417.68\n",
       "War                98625164.36\n",
       "Thriller           83641605.33\n",
       "Comedy             82187498.82\n",
       "Name: profit_adj, dtype: float64"
      ]
     },
     "execution_count": 41,
     "metadata": {},
     "output_type": "execute_result"
    }
   ],
   "source": [
    "# calculate mean adjusted profit of each genre and sort values by descending order\n",
    "\n",
    "profit_movies.groupby('genres').mean().sort_values(by = 'profit_adj', ascending = False).loc[:,'profit_adj'][0:10]"
   ]
  },
  {
   "cell_type": "code",
   "execution_count": 42,
   "metadata": {},
   "outputs": [
    {
     "data": {
      "text/plain": [
       "genres\n",
       "Animation         290957382.26\n",
       "Adventure         271407469.11\n",
       "Fantasy           249992751.60\n",
       "Family            243791030.52\n",
       "Science Fiction   202153142.41\n",
       "Action            195387938.30\n",
       "War               155898111.71\n",
       "Music             136566235.27\n",
       "Western           135674767.39\n",
       "Thriller          128277423.93\n",
       "Name: revenue_adj, dtype: float64"
      ]
     },
     "execution_count": 42,
     "metadata": {},
     "output_type": "execute_result"
    }
   ],
   "source": [
    "# calculate mean adjusted revenue of each genre and sort values by descending order\n",
    "\n",
    "profit_movies.groupby('genres').mean().sort_values(by = 'revenue_adj', ascending = False).loc[:,'revenue_adj'][0:10]"
   ]
  },
  {
   "cell_type": "markdown",
   "metadata": {},
   "source": [
    "Based on the values of the 10 most profitable genres, it can be seen that animation, adventure, family and fantasy movies tend to have high average profit. This is in line with the highest average revenue genres. In the next step, I will calculate total profit and revenue of each genre to see if this is in line with average value:"
   ]
  },
  {
   "cell_type": "code",
   "execution_count": 43,
   "metadata": {},
   "outputs": [
    {
     "data": {
      "text/plain": [
       "genres\n",
       "Adventure         142423655191.30\n",
       "Action            139905667129.29\n",
       "Drama             117065737741.49\n",
       "Comedy            111528435900.87\n",
       "Thriller          100620851206.13\n",
       "Family             73393265492.80\n",
       "Science Fiction    70862141698.36\n",
       "Fantasy            67223073214.42\n",
       "Romance            53096658025.14\n",
       "Crime              45885778798.36\n",
       "Name: profit_adj, dtype: float64"
      ]
     },
     "execution_count": 43,
     "metadata": {},
     "output_type": "execute_result"
    }
   ],
   "source": [
    "# calculate sum of adjusted profit of each genre and sort values by descending order\n",
    "\n",
    "profit_movies.groupby('genres').sum().sort_values(by = 'profit_adj', ascending = False).loc[:, 'profit_adj'][0:10]"
   ]
  },
  {
   "cell_type": "code",
   "execution_count": 44,
   "metadata": {},
   "outputs": [
    {
     "data": {
      "text/plain": [
       "genres\n",
       "Action            211995913052.47\n",
       "Adventure         203284194362.06\n",
       "Drama             178008344081.34\n",
       "Comedy            164725841102.20\n",
       "Thriller          154317740988.44\n",
       "Science Fiction   104917480910.93\n",
       "Family            103611187968.93\n",
       "Fantasy            98997129635.29\n",
       "Romance            75706596123.14\n",
       "Crime              71867233021.74\n",
       "Name: revenue_adj, dtype: float64"
      ]
     },
     "execution_count": 44,
     "metadata": {},
     "output_type": "execute_result"
    }
   ],
   "source": [
    "# calculate the sum of adjusted revenue of each genre and sort values by descending order\n",
    "\n",
    "profit_movies.groupby('genres').sum().sort_values(by = 'revenue_adj', ascending = False).loc[:,'revenue_adj'][0:10]"
   ]
  },
  {
   "cell_type": "markdown",
   "metadata": {},
   "source": [
    "When looking at total profit and total revenue of each genre, it can be seen that adventure, action and drama, comedy have higher total profits. This is not similar to the average method. Thus, it can be seen that depending on the method we choose to examine, the results for the trend of most profitable genres vary."
   ]
  },
  {
   "cell_type": "markdown",
   "metadata": {},
   "source": [
    "### 2.2. Revenue/Profit and Popularity\n",
    "\n",
    "Now, we will analyse if high revenue/profit is correlated with the popularity of the movies."
   ]
  },
  {
   "cell_type": "code",
   "execution_count": 45,
   "metadata": {},
   "outputs": [
    {
     "data": {
      "text/plain": [
       "<Figure size 1080x576 with 0 Axes>"
      ]
     },
     "metadata": {},
     "output_type": "display_data"
    },
    {
     "data": {
      "image/png": "[encoded data removed]",
      "text/plain": [
       "<Figure size 360x360 with 1 Axes>"
      ]
     },
     "metadata": {
      "needs_background": "light"
     },
     "output_type": "display_data"
    }
   ],
   "source": [
    "# plot the linear relationship between popularity of movies and their profit\n",
    "\n",
    "plt.figure(figsize = (15,8))\n",
    "sns.lmplot(x = 'popularity', y = 'profit_adj', data = df)\n",
    "plt.xlabel('Popularity', fontsize = 20)\n",
    "plt.ylabel('Profit', fontsize = 20)\n",
    "plt.title('Profit vs Popularity',fontsize = 20);"
   ]
  },
  {
   "cell_type": "code",
   "execution_count": 46,
   "metadata": {},
   "outputs": [
    {
     "data": {
      "text/html": [
       "<div>\n",
       "<style scoped>\n",
       "    .dataframe tbody tr th:only-of-type {\n",
       "        vertical-align: middle;\n",
       "    }\n",
       "\n",
       "    .dataframe tbody tr th {\n",
       "        vertical-align: top;\n",
       "    }\n",
       "\n",
       "    .dataframe thead th {\n",
       "        text-align: right;\n",
       "    }\n",
       "</style>\n",
       "<table border=\"1\" class=\"dataframe\">\n",
       "  <thead>\n",
       "    <tr style=\"text-align: right;\">\n",
       "      <th></th>\n",
       "      <th>profit_adj</th>\n",
       "      <th>popularity</th>\n",
       "    </tr>\n",
       "  </thead>\n",
       "  <tbody>\n",
       "    <tr>\n",
       "      <th>profit_adj</th>\n",
       "      <td>1.00</td>\n",
       "      <td>0.52</td>\n",
       "    </tr>\n",
       "    <tr>\n",
       "      <th>popularity</th>\n",
       "      <td>0.52</td>\n",
       "      <td>1.00</td>\n",
       "    </tr>\n",
       "  </tbody>\n",
       "</table>\n",
       "</div>"
      ],
      "text/plain": [
       "            profit_adj  popularity\n",
       "profit_adj        1.00        0.52\n",
       "popularity        0.52        1.00"
      ]
     },
     "execution_count": 46,
     "metadata": {},
     "output_type": "execute_result"
    }
   ],
   "source": [
    "# calculate the correlation between popularity and adjusted profit\n",
    "\n",
    "df[['profit_adj', 'popularity']].corr(method = 'pearson')"
   ]
  },
  {
   "cell_type": "code",
   "execution_count": 47,
   "metadata": {},
   "outputs": [
    {
     "data": {
      "text/plain": [
       "<Figure size 1080x576 with 0 Axes>"
      ]
     },
     "metadata": {},
     "output_type": "display_data"
    },
    {
     "data": {
      "image/png": "[encoded data removed]",
      "text/plain": [
       "<Figure size 360x360 with 1 Axes>"
      ]
     },
     "metadata": {
      "needs_background": "light"
     },
     "output_type": "display_data"
    }
   ],
   "source": [
    "# plot the linear relationship between popularity of movies and their revenue\n",
    "\n",
    "plt.figure(figsize = (15,8))\n",
    "sns.lmplot(x = 'popularity', y = 'revenue_adj', data = df)\n",
    "plt.xlabel('Popularity', fontsize = 20)\n",
    "plt.ylabel('Revenue', fontsize = 20)\n",
    "plt.title('Revenue and popularity', fontsize = 20);"
   ]
  },
  {
   "cell_type": "code",
   "execution_count": 48,
   "metadata": {},
   "outputs": [
    {
     "data": {
      "text/html": [
       "<div>\n",
       "<style scoped>\n",
       "    .dataframe tbody tr th:only-of-type {\n",
       "        vertical-align: middle;\n",
       "    }\n",
       "\n",
       "    .dataframe tbody tr th {\n",
       "        vertical-align: top;\n",
       "    }\n",
       "\n",
       "    .dataframe thead th {\n",
       "        text-align: right;\n",
       "    }\n",
       "</style>\n",
       "<table border=\"1\" class=\"dataframe\">\n",
       "  <thead>\n",
       "    <tr style=\"text-align: right;\">\n",
       "      <th></th>\n",
       "      <th>revenue_adj</th>\n",
       "      <th>popularity</th>\n",
       "    </tr>\n",
       "  </thead>\n",
       "  <tbody>\n",
       "    <tr>\n",
       "      <th>revenue_adj</th>\n",
       "      <td>1.00</td>\n",
       "      <td>0.55</td>\n",
       "    </tr>\n",
       "    <tr>\n",
       "      <th>popularity</th>\n",
       "      <td>0.55</td>\n",
       "      <td>1.00</td>\n",
       "    </tr>\n",
       "  </tbody>\n",
       "</table>\n",
       "</div>"
      ],
      "text/plain": [
       "             revenue_adj  popularity\n",
       "revenue_adj         1.00        0.55\n",
       "popularity          0.55        1.00"
      ]
     },
     "execution_count": 48,
     "metadata": {},
     "output_type": "execute_result"
    }
   ],
   "source": [
    "# calculate the correlation between popularity and adjusted revenue\n",
    "\n",
    "df[['revenue_adj', 'popularity']].corr(method = 'pearson')"
   ]
  },
  {
   "cell_type": "markdown",
   "metadata": {},
   "source": [
    "The linear relationship plot and the correlation calculation between 2 variables popularity and profit or revenue demonstrate that there is a positive relationship between the popularity and profitability of a film. However, this relationship is very weak, since the correlation is only around 0.5."
   ]
  },
  {
   "cell_type": "markdown",
   "metadata": {},
   "source": [
    "### 2.3. Revenue/Profit and Budget\n",
    "\n",
    "Now, we will examine whether high revenue/profit depends on the budget to product the movies"
   ]
  },
  {
   "cell_type": "code",
   "execution_count": 49,
   "metadata": {},
   "outputs": [
    {
     "data": {
      "text/plain": [
       "<Figure size 1080x576 with 0 Axes>"
      ]
     },
     "metadata": {},
     "output_type": "display_data"
    },
    {
     "data": {
      "image/png": "[encoded data removed]",
      "text/plain": [
       "<Figure size 360x360 with 1 Axes>"
      ]
     },
     "metadata": {
      "needs_background": "light"
     },
     "output_type": "display_data"
    }
   ],
   "source": [
    "# plot a simple linear relationship between two variables movies' budget and adj profit\n",
    "\n",
    "plt.figure(figsize = (15,8))\n",
    "sns.lmplot(x = 'budget_adj', y = 'profit_adj', data = df)\n",
    "plt.xlabel('Budget', fontsize = 20)\n",
    "plt.ylabel('Profit', fontsize = 20)\n",
    "plt.title('Budget vs Profit', fontsize = 20);"
   ]
  },
  {
   "cell_type": "code",
   "execution_count": 50,
   "metadata": {},
   "outputs": [
    {
     "data": {
      "text/html": [
       "<div>\n",
       "<style scoped>\n",
       "    .dataframe tbody tr th:only-of-type {\n",
       "        vertical-align: middle;\n",
       "    }\n",
       "\n",
       "    .dataframe tbody tr th {\n",
       "        vertical-align: top;\n",
       "    }\n",
       "\n",
       "    .dataframe thead th {\n",
       "        text-align: right;\n",
       "    }\n",
       "</style>\n",
       "<table border=\"1\" class=\"dataframe\">\n",
       "  <thead>\n",
       "    <tr style=\"text-align: right;\">\n",
       "      <th></th>\n",
       "      <th>profit_adj</th>\n",
       "      <th>budget_adj</th>\n",
       "    </tr>\n",
       "  </thead>\n",
       "  <tbody>\n",
       "    <tr>\n",
       "      <th>profit_adj</th>\n",
       "      <td>1.00</td>\n",
       "      <td>0.40</td>\n",
       "    </tr>\n",
       "    <tr>\n",
       "      <th>budget_adj</th>\n",
       "      <td>0.40</td>\n",
       "      <td>1.00</td>\n",
       "    </tr>\n",
       "  </tbody>\n",
       "</table>\n",
       "</div>"
      ],
      "text/plain": [
       "            profit_adj  budget_adj\n",
       "profit_adj        1.00        0.40\n",
       "budget_adj        0.40        1.00"
      ]
     },
     "execution_count": 50,
     "metadata": {},
     "output_type": "execute_result"
    }
   ],
   "source": [
    "# calculate correlation between budget and profit\n",
    "\n",
    "df[['profit_adj','budget_adj']].corr(method = 'pearson')"
   ]
  },
  {
   "cell_type": "code",
   "execution_count": 51,
   "metadata": {},
   "outputs": [
    {
     "data": {
      "text/plain": [
       "<Figure size 1080x576 with 0 Axes>"
      ]
     },
     "metadata": {},
     "output_type": "display_data"
    },
    {
     "data": {
      "image/png": "[encoded data removed]",
      "text/plain": [
       "<Figure size 360x360 with 1 Axes>"
      ]
     },
     "metadata": {
      "needs_background": "light"
     },
     "output_type": "display_data"
    }
   ],
   "source": [
    "# Plot a simple linear relationship between two variables: movies' budget and adj revenue\n",
    "\n",
    "plt.figure(figsize = (15,8))\n",
    "sns.lmplot(x = 'budget_adj', y = 'revenue_adj', data = df)\n",
    "plt.xlabel('Budget', fontsize = 20)\n",
    "plt.ylabel('Revenue', fontsize = 20)\n",
    "plt.title('Budget vs Revenue', fontsize = 20);"
   ]
  },
  {
   "cell_type": "code",
   "execution_count": 52,
   "metadata": {},
   "outputs": [
    {
     "data": {
      "text/html": [
       "<div>\n",
       "<style scoped>\n",
       "    .dataframe tbody tr th:only-of-type {\n",
       "        vertical-align: middle;\n",
       "    }\n",
       "\n",
       "    .dataframe tbody tr th {\n",
       "        vertical-align: top;\n",
       "    }\n",
       "\n",
       "    .dataframe thead th {\n",
       "        text-align: right;\n",
       "    }\n",
       "</style>\n",
       "<table border=\"1\" class=\"dataframe\">\n",
       "  <thead>\n",
       "    <tr style=\"text-align: right;\">\n",
       "      <th></th>\n",
       "      <th>revenue_adj</th>\n",
       "      <th>budget_adj</th>\n",
       "    </tr>\n",
       "  </thead>\n",
       "  <tbody>\n",
       "    <tr>\n",
       "      <th>revenue_adj</th>\n",
       "      <td>1.00</td>\n",
       "      <td>0.57</td>\n",
       "    </tr>\n",
       "    <tr>\n",
       "      <th>budget_adj</th>\n",
       "      <td>0.57</td>\n",
       "      <td>1.00</td>\n",
       "    </tr>\n",
       "  </tbody>\n",
       "</table>\n",
       "</div>"
      ],
      "text/plain": [
       "             revenue_adj  budget_adj\n",
       "revenue_adj         1.00        0.57\n",
       "budget_adj          0.57        1.00"
      ]
     },
     "execution_count": 52,
     "metadata": {},
     "output_type": "execute_result"
    }
   ],
   "source": [
    "# calculate correlation between budget and revenue\n",
    "\n",
    "df[['revenue_adj','budget_adj']].corr(method = 'pearson')"
   ]
  },
  {
   "cell_type": "markdown",
   "metadata": {},
   "source": [
    "The budget and revenue seem to have a weak positive correlation at 0.57. The relationship between budget and profit is even weaker. However, it might be due to several outliers. As can be seen from the plot, there are some points in the plot where the budget is extremely high whilst its revenue is quite low. Thus, further study needs to be conducted to delete the outliers to examine these two groups separately."
   ]
  },
  {
   "cell_type": "markdown",
   "metadata": {},
   "source": [
    "### 2.4. Revenue/Profit and Voting score\n",
    "\n",
    "Finally, we will test the relation between high revenue/profit and the vote count/vote average of the films."
   ]
  },
  {
   "cell_type": "code",
   "execution_count": 53,
   "metadata": {},
   "outputs": [
    {
     "data": {
      "text/plain": [
       "<Figure size 1800x576 with 0 Axes>"
      ]
     },
     "metadata": {},
     "output_type": "display_data"
    },
    {
     "data": {
      "image/png": "[encoded data removed]",
      "text/plain": [
       "<Figure size 360x360 with 1 Axes>"
      ]
     },
     "metadata": {
      "needs_background": "light"
     },
     "output_type": "display_data"
    }
   ],
   "source": [
    "# Plot a simple linear relationship between two variables profit and vote_count\n",
    "\n",
    "plt.figure(figsize = (25,8))\n",
    "sns.lmplot(x = 'vote_count', y = 'profit_adj', data = df)\n",
    "plt.xlabel('Vote count', fontsize = 20)\n",
    "plt.ylabel('Profit', fontsize = 20)\n",
    "plt.title('Vote count vs Profit', fontsize = 20);"
   ]
  },
  {
   "cell_type": "code",
   "execution_count": 54,
   "metadata": {},
   "outputs": [
    {
     "data": {
      "text/html": [
       "<div>\n",
       "<style scoped>\n",
       "    .dataframe tbody tr th:only-of-type {\n",
       "        vertical-align: middle;\n",
       "    }\n",
       "\n",
       "    .dataframe tbody tr th {\n",
       "        vertical-align: top;\n",
       "    }\n",
       "\n",
       "    .dataframe thead th {\n",
       "        text-align: right;\n",
       "    }\n",
       "</style>\n",
       "<table border=\"1\" class=\"dataframe\">\n",
       "  <thead>\n",
       "    <tr style=\"text-align: right;\">\n",
       "      <th></th>\n",
       "      <th>vote_count</th>\n",
       "      <th>profit_adj</th>\n",
       "    </tr>\n",
       "  </thead>\n",
       "  <tbody>\n",
       "    <tr>\n",
       "      <th>vote_count</th>\n",
       "      <td>1.00</td>\n",
       "      <td>0.61</td>\n",
       "    </tr>\n",
       "    <tr>\n",
       "      <th>profit_adj</th>\n",
       "      <td>0.61</td>\n",
       "      <td>1.00</td>\n",
       "    </tr>\n",
       "  </tbody>\n",
       "</table>\n",
       "</div>"
      ],
      "text/plain": [
       "            vote_count  profit_adj\n",
       "vote_count        1.00        0.61\n",
       "profit_adj        0.61        1.00"
      ]
     },
     "execution_count": 54,
     "metadata": {},
     "output_type": "execute_result"
    }
   ],
   "source": [
    "# calculate pearson correlation between vote count and profit\n",
    "\n",
    "df[['vote_count', 'profit_adj']].corr()"
   ]
  },
  {
   "cell_type": "code",
   "execution_count": 55,
   "metadata": {},
   "outputs": [
    {
     "data": {
      "text/plain": [
       "<Figure size 1800x576 with 0 Axes>"
      ]
     },
     "metadata": {},
     "output_type": "display_data"
    },
    {
     "data": {
      "image/png": "[encoded data removed]",
      "text/plain": [
       "<Figure size 360x360 with 1 Axes>"
      ]
     },
     "metadata": {
      "needs_background": "light"
     },
     "output_type": "display_data"
    }
   ],
   "source": [
    "# Plot a simple linear relationship between two variables vote_average and adj profit\n",
    "\n",
    "plt.figure(figsize = (25,8))\n",
    "sns.lmplot(x = 'vote_average', y = 'profit_adj', data = df)\n",
    "plt.xlabel('Vote average', fontsize = 20)\n",
    "plt.ylabel('Profit', fontsize = 20)\n",
    "plt.title('Vote average vs Profit', fontsize = 20);"
   ]
  },
  {
   "cell_type": "code",
   "execution_count": 56,
   "metadata": {},
   "outputs": [
    {
     "data": {
      "text/html": [
       "<div>\n",
       "<style scoped>\n",
       "    .dataframe tbody tr th:only-of-type {\n",
       "        vertical-align: middle;\n",
       "    }\n",
       "\n",
       "    .dataframe tbody tr th {\n",
       "        vertical-align: top;\n",
       "    }\n",
       "\n",
       "    .dataframe thead th {\n",
       "        text-align: right;\n",
       "    }\n",
       "</style>\n",
       "<table border=\"1\" class=\"dataframe\">\n",
       "  <thead>\n",
       "    <tr style=\"text-align: right;\">\n",
       "      <th></th>\n",
       "      <th>vote_average</th>\n",
       "      <th>profit_adj</th>\n",
       "    </tr>\n",
       "  </thead>\n",
       "  <tbody>\n",
       "    <tr>\n",
       "      <th>vote_average</th>\n",
       "      <td>1.00</td>\n",
       "      <td>0.29</td>\n",
       "    </tr>\n",
       "    <tr>\n",
       "      <th>profit_adj</th>\n",
       "      <td>0.29</td>\n",
       "      <td>1.00</td>\n",
       "    </tr>\n",
       "  </tbody>\n",
       "</table>\n",
       "</div>"
      ],
      "text/plain": [
       "              vote_average  profit_adj\n",
       "vote_average          1.00        0.29\n",
       "profit_adj            0.29        1.00"
      ]
     },
     "execution_count": 56,
     "metadata": {},
     "output_type": "execute_result"
    }
   ],
   "source": [
    "# calculate pearson correlation between vote average and profit\n",
    "\n",
    "df[['vote_average', 'profit_adj']].corr()"
   ]
  },
  {
   "cell_type": "code",
   "execution_count": 57,
   "metadata": {},
   "outputs": [
    {
     "data": {
      "text/plain": [
       "<Figure size 1800x576 with 0 Axes>"
      ]
     },
     "metadata": {},
     "output_type": "display_data"
    },
    {
     "data": {
      "image/png": "[encoded data removed]",
      "text/plain": [
       "<Figure size 360x360 with 1 Axes>"
      ]
     },
     "metadata": {
      "needs_background": "light"
     },
     "output_type": "display_data"
    }
   ],
   "source": [
    "# Plot a simple linear relationship between two variables vote_count and adj revenue\n",
    "\n",
    "plt.figure(figsize = (25,8))\n",
    "sns.lmplot(x = 'vote_count', y = 'revenue_adj', data = df)\n",
    "plt.xlabel('Vote count', fontsize = 20)\n",
    "plt.ylabel('Revenue', fontsize = 20)\n",
    "plt.title('Vote count vs Revenue', fontsize = 20);"
   ]
  },
  {
   "cell_type": "code",
   "execution_count": 58,
   "metadata": {},
   "outputs": [
    {
     "data": {
      "text/html": [
       "<div>\n",
       "<style scoped>\n",
       "    .dataframe tbody tr th:only-of-type {\n",
       "        vertical-align: middle;\n",
       "    }\n",
       "\n",
       "    .dataframe tbody tr th {\n",
       "        vertical-align: top;\n",
       "    }\n",
       "\n",
       "    .dataframe thead th {\n",
       "        text-align: right;\n",
       "    }\n",
       "</style>\n",
       "<table border=\"1\" class=\"dataframe\">\n",
       "  <thead>\n",
       "    <tr style=\"text-align: right;\">\n",
       "      <th></th>\n",
       "      <th>vote_count</th>\n",
       "      <th>revenue_adj</th>\n",
       "    </tr>\n",
       "  </thead>\n",
       "  <tbody>\n",
       "    <tr>\n",
       "      <th>vote_count</th>\n",
       "      <td>1.00</td>\n",
       "      <td>0.65</td>\n",
       "    </tr>\n",
       "    <tr>\n",
       "      <th>revenue_adj</th>\n",
       "      <td>0.65</td>\n",
       "      <td>1.00</td>\n",
       "    </tr>\n",
       "  </tbody>\n",
       "</table>\n",
       "</div>"
      ],
      "text/plain": [
       "             vote_count  revenue_adj\n",
       "vote_count         1.00         0.65\n",
       "revenue_adj        0.65         1.00"
      ]
     },
     "execution_count": 58,
     "metadata": {},
     "output_type": "execute_result"
    }
   ],
   "source": [
    "# calculate pearson correlation between vote count and adj revenue\n",
    "\n",
    "df[['vote_count','revenue_adj']].corr()"
   ]
  },
  {
   "cell_type": "code",
   "execution_count": 59,
   "metadata": {},
   "outputs": [
    {
     "data": {
      "text/plain": [
       "<Figure size 1800x576 with 0 Axes>"
      ]
     },
     "metadata": {},
     "output_type": "display_data"
    },
    {
     "data": {
      "image/png": "[encoded data removed]",
      "text/plain": [
       "<Figure size 360x360 with 1 Axes>"
      ]
     },
     "metadata": {
      "needs_background": "light"
     },
     "output_type": "display_data"
    }
   ],
   "source": [
    "# Plot a simple linear relationship between two variables vote_average and adj revenue\n",
    "\n",
    "plt.figure(figsize = (25,8))\n",
    "sns.lmplot(x = 'vote_average', y = 'revenue_adj', data = df)\n",
    "plt.xlabel('Vote average', fontsize = 20)\n",
    "plt.ylabel('Revenue', fontsize = 20)\n",
    "plt.title('Vote average vs Revenue', fontsize = 20);"
   ]
  },
  {
   "cell_type": "code",
   "execution_count": 60,
   "metadata": {},
   "outputs": [
    {
     "data": {
      "text/html": [
       "<div>\n",
       "<style scoped>\n",
       "    .dataframe tbody tr th:only-of-type {\n",
       "        vertical-align: middle;\n",
       "    }\n",
       "\n",
       "    .dataframe tbody tr th {\n",
       "        vertical-align: top;\n",
       "    }\n",
       "\n",
       "    .dataframe thead th {\n",
       "        text-align: right;\n",
       "    }\n",
       "</style>\n",
       "<table border=\"1\" class=\"dataframe\">\n",
       "  <thead>\n",
       "    <tr style=\"text-align: right;\">\n",
       "      <th></th>\n",
       "      <th>revenue_adj</th>\n",
       "      <th>vote_average</th>\n",
       "    </tr>\n",
       "  </thead>\n",
       "  <tbody>\n",
       "    <tr>\n",
       "      <th>revenue_adj</th>\n",
       "      <td>1.00</td>\n",
       "      <td>0.27</td>\n",
       "    </tr>\n",
       "    <tr>\n",
       "      <th>vote_average</th>\n",
       "      <td>0.27</td>\n",
       "      <td>1.00</td>\n",
       "    </tr>\n",
       "  </tbody>\n",
       "</table>\n",
       "</div>"
      ],
      "text/plain": [
       "              revenue_adj  vote_average\n",
       "revenue_adj          1.00          0.27\n",
       "vote_average         0.27          1.00"
      ]
     },
     "execution_count": 60,
     "metadata": {},
     "output_type": "execute_result"
    }
   ],
   "source": [
    "# calculate pearson correlation between vote average and revenue\n",
    "\n",
    "df[['revenue_adj', 'vote_average']].corr()"
   ]
  },
  {
   "cell_type": "markdown",
   "metadata": {},
   "source": [
    "In all the examined variables, including budget, popularity, genres, voting count and voting average, the variable voting count seems to have the strongest relationship with the revenue and profit of a movie. "
   ]
  },
  {
   "cell_type": "markdown",
   "metadata": {},
   "source": [
    "### Research Question 3  - Who are the most frequent cast and director in the profitable movies?"
   ]
  },
  {
   "cell_type": "markdown",
   "metadata": {},
   "source": [
    "This section examines whether higher revenues/profits are associated with any specific actors/actress and any directors."
   ]
  },
  {
   "cell_type": "code",
   "execution_count": 61,
   "metadata": {},
   "outputs": [
    {
     "data": {
      "text/plain": [
       "director\n",
       "Steven Spielberg    13126025234.23\n",
       "James Cameron        6296578359.74\n",
       "George Lucas         5844159207.50\n",
       "Peter Jackson        5645491689.79\n",
       "Robert Zemeckis      4335995165.48\n",
       "Chris Columbus       4171046474.21\n",
       "Michael Bay          3958675886.72\n",
       "David Yates          3394430107.98\n",
       "Tim Burton           3286788440.84\n",
       "Christopher Nolan    3149568381.05\n",
       "Name: profit_adj, dtype: float64"
      ]
     },
     "execution_count": 61,
     "metadata": {},
     "output_type": "execute_result"
    }
   ],
   "source": [
    "# calculate sum adjusted profit of each director and sort values by descending order \n",
    "# to take the first 10 directors with highest total profit\n",
    "\n",
    "df.groupby('director').sum().sort_values(by = 'profit_adj', ascending = False)['profit_adj'][0:10]"
   ]
  },
  {
   "cell_type": "code",
   "execution_count": 62,
   "metadata": {},
   "outputs": [
    {
     "data": {
      "text/plain": [
       "director\n",
       "Steven Spielberg    15202446786.62\n",
       "James Cameron        7327220858.39\n",
       "Peter Jackson        7019847816.48\n",
       "George Lucas         6313919162.63\n",
       "Robert Zemeckis      5655648249.32\n",
       "Michael Bay          5460671958.24\n",
       "Chris Columbus       4893485768.13\n",
       "Tim Burton           4660141181.68\n",
       "David Yates          4177455259.23\n",
       "Christopher Nolan    4164261914.93\n",
       "Name: revenue_adj, dtype: float64"
      ]
     },
     "execution_count": 62,
     "metadata": {},
     "output_type": "execute_result"
    }
   ],
   "source": [
    "# calculate sum adjusted revenue of each director and sort values by descending order \n",
    "# to take the first 10 directors with highest total revenue\n",
    "\n",
    "df.groupby('director').sum().sort_values(by = 'revenue_adj', ascending = False)['revenue_adj'][0:10]"
   ]
  },
  {
   "cell_type": "markdown",
   "metadata": {},
   "source": [
    "The director Steven Spielberg, James Cameron, George Lucas and Peter Jackson are the top 4 most profitable directors. Their total profits and total revenues rank the highest."
   ]
  },
  {
   "cell_type": "code",
   "execution_count": 63,
   "metadata": {},
   "outputs": [
    {
     "data": {
      "text/plain": [
       "director\n",
       "Irwin Winkler      1551568265.28\n",
       "Clyde Geronimi     1545635294.87\n",
       "Richard Marquand   1182994737.99\n",
       "Chris Buck         1052306488.21\n",
       "Kyle Balda          996112046.75\n",
       "George Lucas        974026534.58\n",
       "David Yates         848607527.00\n",
       "James Cameron       787072294.97\n",
       "Lee Unkrich         707326154.36\n",
       "Robert Stevenson    676823015.13\n",
       "Name: profit_adj, dtype: float64"
      ]
     },
     "execution_count": 63,
     "metadata": {},
     "output_type": "execute_result"
    }
   ],
   "source": [
    "# calculate average of adjusted profit of each director and sort values by descending order \n",
    "# to take the first 10 directors with highest average profit\n",
    "\n",
    "df.groupby('director').mean().sort_values(by = 'profit_adj', ascending = False)['profit_adj'][0:10]"
   ]
  },
  {
   "cell_type": "code",
   "execution_count": 64,
   "metadata": {},
   "outputs": [
    {
     "data": {
      "text/plain": [
       "director\n",
       "Irwin Winkler      1583049536.35\n",
       "Clyde Geronimi     1574814739.70\n",
       "Richard Marquand   1253818981.12\n",
       "Chris Buck         1192711491.12\n",
       "Kyle Balda         1064192016.80\n",
       "George Lucas       1052319860.44\n",
       "David Yates        1044363814.81\n",
       "James Cameron       915902607.30\n",
       "Lee Unkrich         878136721.07\n",
       "Pete Docter         785411574.70\n",
       "Name: revenue_adj, dtype: float64"
      ]
     },
     "execution_count": 64,
     "metadata": {},
     "output_type": "execute_result"
    }
   ],
   "source": [
    "# calculate average adjusted revenue of each director and sort values by descending order \n",
    "# to take the first 10 directors with highest average revenue\n",
    "\n",
    "df.groupby('director').mean().sort_values(by = 'revenue_adj', ascending = False)['revenue_adj'][0:10]"
   ]
  },
  {
   "cell_type": "markdown",
   "metadata": {},
   "source": [
    "However, if using the average profit/revenue as the metric, the directors with highest average profit and revenue for each film he makes are presented in the above table, which is clear that are not the directors with highest total profits. "
   ]
  },
  {
   "cell_type": "code",
   "execution_count": 65,
   "metadata": {},
   "outputs": [
    {
     "data": {
      "text/plain": [
       "director\n",
       "Steven Spielberg   15202446786.62\n",
       "Ridley Scott        4141847535.59\n",
       "Michael Bay         5460671958.24\n",
       "Peter Jackson       7019847816.48\n",
       "Tim Burton          4660141181.68\n",
       "Robert Zemeckis     5655648249.32\n",
       "Ron Howard          4011669229.63\n",
       "Gore Verbinski      3926129889.65\n",
       "Roland Emmerich     4076980993.48\n",
       "Martin Scorsese     2425465792.29\n",
       "Name: revenue_adj, dtype: float64"
      ]
     },
     "execution_count": 65,
     "metadata": {},
     "output_type": "execute_result"
    }
   ],
   "source": [
    "# calculate sum adjusted budget of each director and sort values by descending order \n",
    "# to take the first 10 directors with highest total budget\n",
    "\n",
    "df.groupby('director').sum().sort_values(by = 'budget_adj', ascending = False)['revenue_adj'][0:10]"
   ]
  },
  {
   "cell_type": "markdown",
   "metadata": {},
   "source": [
    "Looking at the below table of the directors with highest budget for their films, it can be seen that most of them are also present in the table of highest total profit director. "
   ]
  },
  {
   "cell_type": "markdown",
   "metadata": {},
   "source": [
    "Now we will find out the casts who appear in the highest profit movies."
   ]
  },
  {
   "cell_type": "code",
   "execution_count": 66,
   "metadata": {},
   "outputs": [],
   "source": [
    "# merge cast data into the movie dataframe\n",
    "\n",
    "cast_film = pd.merge(df, cast, how = 'inner', on = 'id')"
   ]
  },
  {
   "cell_type": "code",
   "execution_count": 67,
   "metadata": {},
   "outputs": [
    {
     "data": {
      "text/plain": [
       "cast\n",
       "Harrison Ford      11808415334.78\n",
       "Tom Cruise          8361768624.64\n",
       "Tom Hanks           8079464501.99\n",
       "Carrie Fisher       7263715471.21\n",
       "Emma Watson         7212039539.84\n",
       "Daniel Radcliffe    7071883856.51\n",
       "Mark Hamill         7028274589.10\n",
       "Rupert Grint        6974591011.98\n",
       "Ian McKellen        6576083507.35\n",
       "Sean Connery        6181236271.02\n",
       "Name: profit_adj, dtype: float64"
      ]
     },
     "execution_count": 67,
     "metadata": {},
     "output_type": "execute_result"
    }
   ],
   "source": [
    "# calculate sum adjusted profit of each actor/actress and sort values by descending order \n",
    "# to take the first 10 cast with highest total profit\n",
    "\n",
    "cast_film.groupby('cast').sum().sort_values(by = 'profit_adj', ascending = False)['profit_adj'][0:10]"
   ]
  },
  {
   "cell_type": "markdown",
   "metadata": {},
   "source": [
    "Looking at the above table, it is apparent that Harrison Ford, Tom Cruise, Tom Hanks, Carrie Fisher and Emma Watson are the five casts who have highest total profit movies."
   ]
  },
  {
   "cell_type": "code",
   "execution_count": 68,
   "metadata": {},
   "outputs": [
    {
     "data": {
      "text/plain": [
       "cast\n",
       "Jason Miller         2128035624.57\n",
       "Robert MacNaughton   1767968064.02\n",
       "Daisy Ridley         1718723210.76\n",
       "Ken Howard           1551568265.28\n",
       "Wendy Gazelle        1551568265.28\n",
       "Betty Lou Gerson     1545635294.87\n",
       "J. Pat O'Malley      1545635294.87\n",
       "Ben Wright           1545635294.87\n",
       "Martha Wentworth     1545635294.87\n",
       "Mark Hamill          1405654917.82\n",
       "Name: profit_adj, dtype: float64"
      ]
     },
     "execution_count": 68,
     "metadata": {},
     "output_type": "execute_result"
    }
   ],
   "source": [
    "# calculate mean adjusted profit of each actor/actress and sort values by descending order \n",
    "# to take the first 10 cast with highest average profit\n",
    "\n",
    "cast_film.groupby('cast').mean().sort_values(by = 'profit_adj', ascending = False)['profit_adj'][0:10]"
   ]
  },
  {
   "cell_type": "code",
   "execution_count": 69,
   "metadata": {},
   "outputs": [],
   "source": [
    "#create a dataframe of popular cast by calculating sum popularity of each actor and sort values by descending \n",
    "#order to take the first 10 cast with highest total popularity score\n",
    "\n",
    "popu_cast = cast_film.groupby('cast').sum().sort_values(by = 'popularity', ascending = False )[0:10]"
   ]
  },
  {
   "cell_type": "code",
   "execution_count": 70,
   "metadata": {},
   "outputs": [],
   "source": [
    "popu_cast['cast'] = popu_cast.index.get_level_values(0)"
   ]
  },
  {
   "cell_type": "code",
   "execution_count": 71,
   "metadata": {},
   "outputs": [
    {
     "name": "stdout",
     "output_type": "stream",
     "text": [
      "<class 'pandas.core.frame.DataFrame'>\n",
      "Index: 10 entries, Samuel L. Jackson to Tom Hanks\n",
      "Data columns (total 12 columns):\n",
      "id              10 non-null int64\n",
      "popularity      10 non-null float64\n",
      "budget          10 non-null float64\n",
      "revenue         10 non-null float64\n",
      "runtime         10 non-null float64\n",
      "vote_count      10 non-null int64\n",
      "vote_average    10 non-null float64\n",
      "release_year    10 non-null int64\n",
      "budget_adj      10 non-null float64\n",
      "revenue_adj     10 non-null float64\n",
      "profit_adj      10 non-null float64\n",
      "cast            10 non-null object\n",
      "dtypes: float64(8), int64(3), object(1)\n",
      "memory usage: 1.0+ KB\n"
     ]
    }
   ],
   "source": [
    "popu_cast.info()"
   ]
  },
  {
   "cell_type": "code",
   "execution_count": 72,
   "metadata": {},
   "outputs": [
    {
     "data": {
      "image/png": "[encoded data removed]",
      "text/plain": [
       "<Figure size 1440x576 with 1 Axes>"
      ]
     },
     "metadata": {
      "needs_background": "light"
     },
     "output_type": "display_data"
    }
   ],
   "source": [
    "# create a bar plot to visualise the most popular cast based on the popularity score\n",
    "\n",
    "plt.figure(figsize = (20,8))\n",
    "sns.barplot(x = 'cast', y = 'popularity', data = popu_cast)\n",
    "plt.xlabel('Cast', fontsize = 20)\n",
    "plt.ylabel('Popularity Score', fontsize = 20)\n",
    "plt.title('Most Popular Actors', fontsize = 20);"
   ]
  },
  {
   "cell_type": "markdown",
   "metadata": {},
   "source": [
    "From the bar plot of most popular actors, Samuel L. Jackson, Harrison Ford and Brad Pitt are the most famous actors based on the popularity score."
   ]
  },
  {
   "cell_type": "code",
   "execution_count": 75,
   "metadata": {},
   "outputs": [],
   "source": [
    "cast_name = popu_cast['cast'].value_counts()\n",
    "\n",
    "cast_name = cast_name.reset_index()\n",
    "\n",
    "cast_name.columns = ['words', 'count']"
   ]
  },
  {
   "cell_type": "code",
   "execution_count": 78,
   "metadata": {},
   "outputs": [
    {
     "data": {
      "image/png": "[encoded data removed]",
      "text/plain": [
       "<Figure size 432x288 with 1 Axes>"
      ]
     },
     "metadata": {
      "needs_background": "light"
     },
     "output_type": "display_data"
    }
   ],
   "source": [
    "# Create word cloud.\n",
    "d = {}\n",
    "for a, x in cast_name.values:\n",
    "    d[a] = x\n",
    "\n",
    "import matplotlib.pyplot as plt\n",
    "from wordcloud import WordCloud\n",
    "\n",
    "wordcloud = WordCloud(width = 600, height = 400, background_color = 'white')\n",
    "wordcloud.generate_from_frequencies(frequencies=d)\n",
    "plt.figure()\n",
    "plt.imshow(wordcloud, interpolation=\"bilinear\")\n",
    "plt.axis(\"off\")\n",
    "plt.show()\n",
    "\n"
   ]
  },
  {
   "cell_type": "markdown",
   "metadata": {},
   "source": [
    "<a id='conclusions'></a>\n",
    "## Conclusions\n"
   ]
  },
  {
   "cell_type": "markdown",
   "metadata": {
    "collapsed": true
   },
   "source": [
    "In conclusion, if looking at the total movies made throughout the years, drama, comedy and thriller are the top three genres which have the most films. However, relying on the popularity score, it can be concluded that science fiction, adventure, fantasy and animation are the most popular genre with the highest average popularity.\n",
    "\n",
    "Regarding the most profitable directors and actors, it is apparent that Harrison Ford, Tom Cruise, Tom Hanks, Carrie Fisher and Emma Watson are the five casts who have highest total profit movies. The directors Steven Spielberg, James Cameron, George Lucas and Peter Jackson are the top most profitable directors, as their total profits and total revenues rank the highest.\n",
    "\n",
    "In this research, I also conducted the analysis to find out the relationship between the budget, genre, voting score and popularity with the profitability of a movie. However, the correlation between these variables is not strong. This can be due to the lack of data and the existence of many outliers. In further research, if these limitations can be tackled, the results may be more precise and accurate. Another limitation of this research if that there are too many missing values as well as a lot of zero values in budget and revenue variables, which made me delete a lot of rows while doing the cleaning data. Thus, only more than 3,000 entries are examined, which is also a reason leading to the bias results."
   ]
  },
  {
   "cell_type": "code",
   "execution_count": null,
   "metadata": {},
   "outputs": [],
   "source": []
  }
 ],
 "metadata": {
  "kernelspec": {
   "display_name": "Python 3",
   "language": "python",
   "name": "python3"
  },
  "language_info": {
   "codemirror_mode": {
    "name": "ipython",
    "version": 3
   },
   "file_extension": ".py",
   "mimetype": "text/x-python",
   "name": "python",
   "nbconvert_exporter": "python",
   "pygments_lexer": "ipython3",
   "version": "3.7.3"
  }
 },
 "nbformat": 4,
 "nbformat_minor": 2
}
